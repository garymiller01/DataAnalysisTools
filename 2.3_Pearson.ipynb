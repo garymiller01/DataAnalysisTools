{
 "cells": [
  {
   "cell_type": "markdown",
   "metadata": {},
   "source": [
    "## Introduction ##\n",
    "\n",
    "I am researching whether national suicide rates are correlated with economic opportunity, political freedom, and military presence, using the Gapminder dataset.  The variables I am using to measure these attributes are: Suicide Rate (per 100,000 population), Employment Rate, Armed Forces Rate (size of active military in proportion to population), and Polity Score.\n",
    "\n",
    "### Pearson Correlations ###\n",
    "\n",
    "Please see the highlighted sections under the discussion of each variable.\n"
   ]
  },
  {
   "cell_type": "code",
   "execution_count": 1,
   "metadata": {
    "collapsed": false
   },
   "outputs": [
    {
     "name": "stderr",
     "output_type": "stream",
     "text": [
      "C:\\Users\\garymiller01\\Anaconda3\\lib\\site-packages\\matplotlib\\__init__.py:872: UserWarning: axes.color_cycle is deprecated and replaced with axes.prop_cycle; please use the latter.\n",
      "  warnings.warn(self.msg_depr % (key, alt_key))\n"
     ]
    }
   ],
   "source": [
    "# Import packages\n",
    "\n",
    "import pandas as pd\n",
    "import numpy as np\n",
    "\n",
    "import seaborn as sns\n",
    "import matplotlib as mpl\n",
    "import matplotlib.pyplot as plt\n",
    "\n",
    "import scipy.stats as stats\n",
    "\n",
    "import statsmodels.formula.api as smf\n",
    "import statsmodels.stats.multicomp as multi\n",
    "\n",
    "# Enable command results to be displayed in Jupyter notebook\n",
    "\n",
    "%matplotlib inline\n",
    "\n",
    "# Read in data\n",
    "\n",
    "df = pd.read_csv('gapminder.csv',low_memory=False)"
   ]
  },
  {
   "cell_type": "markdown",
   "metadata": {},
   "source": [
    "## Organizing Data ##"
   ]
  },
  {
   "cell_type": "code",
   "execution_count": 2,
   "metadata": {
    "collapsed": false
   },
   "outputs": [
    {
     "data": {
      "text/html": [
       "<div>\n",
       "<table border=\"1\" class=\"dataframe\">\n",
       "  <thead>\n",
       "    <tr style=\"text-align: right;\">\n",
       "      <th></th>\n",
       "      <th>country</th>\n",
       "      <th>incomeperperson</th>\n",
       "      <th>alcconsumption</th>\n",
       "      <th>armedforcesrate</th>\n",
       "      <th>breastcancerper100th</th>\n",
       "      <th>co2emissions</th>\n",
       "      <th>femaleemployrate</th>\n",
       "      <th>hivrate</th>\n",
       "      <th>internetuserate</th>\n",
       "      <th>lifeexpectancy</th>\n",
       "      <th>oilperperson</th>\n",
       "      <th>polityscore</th>\n",
       "      <th>relectricperperson</th>\n",
       "      <th>suicideper100th</th>\n",
       "      <th>employrate</th>\n",
       "      <th>urbanrate</th>\n",
       "    </tr>\n",
       "  </thead>\n",
       "  <tbody>\n",
       "    <tr>\n",
       "      <th>0</th>\n",
       "      <td>Afghanistan</td>\n",
       "      <td></td>\n",
       "      <td>.03</td>\n",
       "      <td>.5696534</td>\n",
       "      <td>26.8</td>\n",
       "      <td>75944000</td>\n",
       "      <td>25.6000003814697</td>\n",
       "      <td></td>\n",
       "      <td>3.65412162280064</td>\n",
       "      <td>48.673</td>\n",
       "      <td></td>\n",
       "      <td>0</td>\n",
       "      <td></td>\n",
       "      <td>6.68438529968262</td>\n",
       "      <td>55.7000007629394</td>\n",
       "      <td>24.04</td>\n",
       "    </tr>\n",
       "    <tr>\n",
       "      <th>1</th>\n",
       "      <td>Albania</td>\n",
       "      <td>1914.99655094922</td>\n",
       "      <td>7.29</td>\n",
       "      <td>1.0247361</td>\n",
       "      <td>57.4</td>\n",
       "      <td>223747333.333333</td>\n",
       "      <td>42.0999984741211</td>\n",
       "      <td></td>\n",
       "      <td>44.9899469578783</td>\n",
       "      <td>76.918</td>\n",
       "      <td></td>\n",
       "      <td>9</td>\n",
       "      <td>636.341383366604</td>\n",
       "      <td>7.69932985305786</td>\n",
       "      <td>51.4000015258789</td>\n",
       "      <td>46.72</td>\n",
       "    </tr>\n",
       "    <tr>\n",
       "      <th>2</th>\n",
       "      <td>Algeria</td>\n",
       "      <td>2231.99333515006</td>\n",
       "      <td>.69</td>\n",
       "      <td>2.306817</td>\n",
       "      <td>23.5</td>\n",
       "      <td>2932108666.66667</td>\n",
       "      <td>31.7000007629394</td>\n",
       "      <td>.1</td>\n",
       "      <td>12.5000733055148</td>\n",
       "      <td>73.131</td>\n",
       "      <td>.42009452521537</td>\n",
       "      <td>2</td>\n",
       "      <td>590.509814347428</td>\n",
       "      <td>4.8487696647644</td>\n",
       "      <td>50.5</td>\n",
       "      <td>65.22</td>\n",
       "    </tr>\n",
       "    <tr>\n",
       "      <th>3</th>\n",
       "      <td>Andorra</td>\n",
       "      <td>21943.3398976022</td>\n",
       "      <td>10.17</td>\n",
       "      <td></td>\n",
       "      <td></td>\n",
       "      <td></td>\n",
       "      <td></td>\n",
       "      <td></td>\n",
       "      <td>81</td>\n",
       "      <td></td>\n",
       "      <td></td>\n",
       "      <td></td>\n",
       "      <td></td>\n",
       "      <td>5.36217880249023</td>\n",
       "      <td></td>\n",
       "      <td>88.92</td>\n",
       "    </tr>\n",
       "  </tbody>\n",
       "</table>\n",
       "</div>"
      ],
      "text/plain": [
       "       country   incomeperperson alcconsumption armedforcesrate  \\\n",
       "0  Afghanistan                              .03        .5696534   \n",
       "1      Albania  1914.99655094922           7.29       1.0247361   \n",
       "2      Algeria  2231.99333515006            .69        2.306817   \n",
       "3      Andorra  21943.3398976022          10.17                   \n",
       "\n",
       "  breastcancerper100th      co2emissions  femaleemployrate hivrate  \\\n",
       "0                 26.8          75944000  25.6000003814697           \n",
       "1                 57.4  223747333.333333  42.0999984741211           \n",
       "2                 23.5  2932108666.66667  31.7000007629394      .1   \n",
       "3                                                                    \n",
       "\n",
       "    internetuserate lifeexpectancy     oilperperson polityscore  \\\n",
       "0  3.65412162280064         48.673                            0   \n",
       "1  44.9899469578783         76.918                            9   \n",
       "2  12.5000733055148         73.131  .42009452521537           2   \n",
       "3                81                                               \n",
       "\n",
       "  relectricperperson   suicideper100th        employrate urbanrate  \n",
       "0                     6.68438529968262  55.7000007629394     24.04  \n",
       "1   636.341383366604  7.69932985305786  51.4000015258789     46.72  \n",
       "2   590.509814347428   4.8487696647644              50.5     65.22  \n",
       "3                     5.36217880249023                       88.92  "
      ]
     },
     "execution_count": 2,
     "metadata": {},
     "output_type": "execute_result"
    }
   ],
   "source": [
    "# View the first few rows of the dataframe\n",
    "\n",
    "df.head(4)"
   ]
  },
  {
   "cell_type": "code",
   "execution_count": 3,
   "metadata": {
    "collapsed": false
   },
   "outputs": [
    {
     "name": "stdout",
     "output_type": "stream",
     "text": [
      "213\n",
      "16\n"
     ]
    }
   ],
   "source": [
    "# Get Dimensions of DataFrame\n",
    "\n",
    "# There are 213 Rows, 16 columns\n",
    "\n",
    "print(len(df))\n",
    "print(len(df.columns))"
   ]
  },
  {
   "cell_type": "code",
   "execution_count": 4,
   "metadata": {
    "collapsed": false
   },
   "outputs": [
    {
     "data": {
      "text/plain": [
       "dtype('O')"
      ]
     },
     "execution_count": 4,
     "metadata": {},
     "output_type": "execute_result"
    }
   ],
   "source": [
    "# Confirm current data type of column \n",
    "\n",
    "df['armedforcesrate'].dtype"
   ]
  },
  {
   "cell_type": "code",
   "execution_count": 5,
   "metadata": {
    "collapsed": false
   },
   "outputs": [],
   "source": [
    "# Convert the variables I want to keep to numeric\n",
    "\n",
    "numCols = ['suicideper100th','employrate','armedforcesrate','polityscore']\n",
    "\n",
    "for i in numCols:\n",
    "    df[i] = pd.to_numeric(df[i],errors='coerce')"
   ]
  },
  {
   "cell_type": "code",
   "execution_count": 6,
   "metadata": {
    "collapsed": false
   },
   "outputs": [
    {
     "data": {
      "text/plain": [
       "dtype('float64')"
      ]
     },
     "execution_count": 6,
     "metadata": {},
     "output_type": "execute_result"
    }
   ],
   "source": [
    "# Confirm data type conversion - now Float\n",
    "\n",
    "df['armedforcesrate'].dtype"
   ]
  },
  {
   "cell_type": "code",
   "execution_count": 7,
   "metadata": {
    "collapsed": false
   },
   "outputs": [
    {
     "data": {
      "text/html": [
       "<div>\n",
       "<table border=\"1\" class=\"dataframe\">\n",
       "  <thead>\n",
       "    <tr style=\"text-align: right;\">\n",
       "      <th></th>\n",
       "      <th>country</th>\n",
       "      <th>suicideper100th</th>\n",
       "      <th>employrate</th>\n",
       "      <th>armedforcesrate</th>\n",
       "      <th>polityscore</th>\n",
       "    </tr>\n",
       "  </thead>\n",
       "  <tbody>\n",
       "    <tr>\n",
       "      <th>0</th>\n",
       "      <td>Afghanistan</td>\n",
       "      <td>6.684385</td>\n",
       "      <td>55.700001</td>\n",
       "      <td>0.569653</td>\n",
       "      <td>0</td>\n",
       "    </tr>\n",
       "    <tr>\n",
       "      <th>1</th>\n",
       "      <td>Albania</td>\n",
       "      <td>7.699330</td>\n",
       "      <td>51.400002</td>\n",
       "      <td>1.024736</td>\n",
       "      <td>9</td>\n",
       "    </tr>\n",
       "    <tr>\n",
       "      <th>2</th>\n",
       "      <td>Algeria</td>\n",
       "      <td>4.848770</td>\n",
       "      <td>50.500000</td>\n",
       "      <td>2.306817</td>\n",
       "      <td>2</td>\n",
       "    </tr>\n",
       "    <tr>\n",
       "      <th>3</th>\n",
       "      <td>Andorra</td>\n",
       "      <td>5.362179</td>\n",
       "      <td>NaN</td>\n",
       "      <td>NaN</td>\n",
       "      <td>NaN</td>\n",
       "    </tr>\n",
       "    <tr>\n",
       "      <th>4</th>\n",
       "      <td>Angola</td>\n",
       "      <td>14.554677</td>\n",
       "      <td>75.699997</td>\n",
       "      <td>1.461329</td>\n",
       "      <td>-2</td>\n",
       "    </tr>\n",
       "  </tbody>\n",
       "</table>\n",
       "</div>"
      ],
      "text/plain": [
       "       country  suicideper100th  employrate  armedforcesrate  polityscore\n",
       "0  Afghanistan         6.684385   55.700001         0.569653            0\n",
       "1      Albania         7.699330   51.400002         1.024736            9\n",
       "2      Algeria         4.848770   50.500000         2.306817            2\n",
       "3      Andorra         5.362179         NaN              NaN          NaN\n",
       "4       Angola        14.554677   75.699997         1.461329           -2"
      ]
     },
     "execution_count": 7,
     "metadata": {},
     "output_type": "execute_result"
    }
   ],
   "source": [
    "# Subset columns\n",
    "\n",
    "keepCols = ['country','suicideper100th','employrate','armedforcesrate','polityscore']\n",
    "\n",
    "df2 = df[keepCols]\n",
    "\n",
    "df2.head()"
   ]
  },
  {
   "cell_type": "markdown",
   "metadata": {},
   "source": [
    "##### Handling Missing Data #####\n",
    "\n",
    "I dropped any countries that were missing a value for any of my variables. \n",
    "\n",
    "This left 152 countries to analyze."
   ]
  },
  {
   "cell_type": "code",
   "execution_count": 8,
   "metadata": {
    "collapsed": false
   },
   "outputs": [
    {
     "name": "stdout",
     "output_type": "stream",
     "text": [
      "152\n"
     ]
    }
   ],
   "source": [
    "# Drop countries with no values for any explanatory variables\n",
    "\n",
    "df2 = df2.dropna(subset=['suicideper100th','employrate','armedforcesrate','polityscore'],how='any')\n",
    "\n",
    "print(len(df2))"
   ]
  },
  {
   "cell_type": "markdown",
   "metadata": {},
   "source": [
    "## Variable Analysis ##\n",
    "\n",
    "### Suicide Rate - Response Variable ###\n",
    "\n",
    "Most countries fall between 5 and 12 suicides per 100,000 population. I considered as outliers any country above 25 or below 1.5 per 100,000.  This distribution is unimodal and moderately right-skewed.\n",
    "\n",
    "Four of the five countries with the lowest reported rates are in the Middle East.\n",
    "\n",
    "Four of the seven countries with the highest rates are former Soviet republics (or in the case of Belarus, in the same region)."
   ]
  },
  {
   "cell_type": "code",
   "execution_count": 9,
   "metadata": {
    "collapsed": false
   },
   "outputs": [
    {
     "data": {
      "text/plain": [
       "<matplotlib.text.Text at 0xa7ce710>"
      ]
     },
     "execution_count": 9,
     "metadata": {},
     "output_type": "execute_result"
    },
    {
     "data": {
      "image/png": "[encoded data removed]",
      "text/plain": [
       "<matplotlib.figure.Figure at 0xa76dbe0>"
      ]
     },
     "metadata": {},
     "output_type": "display_data"
    }
   ],
   "source": [
    "# Plot histogram to visualize distribution\n",
    "\n",
    "plt.figure(figsize=(10,5))\n",
    "g1 = sns.distplot(df2['suicideper100th'],kde=False)\n",
    "g1.axes.set_title('Suicide Rate Distribution',fontsize=16)\n",
    "g1.set_xlabel('Number of Suicides',fontsize=14)\n",
    "g1.set_ylabel('Number of Countries',fontsize=14)"
   ]
  },
  {
   "cell_type": "code",
   "execution_count": 10,
   "metadata": {
    "collapsed": false
   },
   "outputs": [
    {
     "data": {
      "text/html": [
       "<div>\n",
       "<table border=\"1\" class=\"dataframe\">\n",
       "  <thead>\n",
       "    <tr style=\"text-align: right;\">\n",
       "      <th></th>\n",
       "      <th>country</th>\n",
       "      <th>suicideper100th</th>\n",
       "    </tr>\n",
       "  </thead>\n",
       "  <tbody>\n",
       "    <tr>\n",
       "      <th>80</th>\n",
       "      <td>Guyana</td>\n",
       "      <td>35.752872</td>\n",
       "    </tr>\n",
       "    <tr>\n",
       "      <th>110</th>\n",
       "      <td>Lithuania</td>\n",
       "      <td>33.341860</td>\n",
       "    </tr>\n",
       "    <tr>\n",
       "      <th>180</th>\n",
       "      <td>Sri Lanka</td>\n",
       "      <td>28.104046</td>\n",
       "    </tr>\n",
       "    <tr>\n",
       "      <th>159</th>\n",
       "      <td>Russia</td>\n",
       "      <td>27.874160</td>\n",
       "    </tr>\n",
       "    <tr>\n",
       "      <th>16</th>\n",
       "      <td>Belarus</td>\n",
       "      <td>26.874690</td>\n",
       "    </tr>\n",
       "    <tr>\n",
       "      <th>103</th>\n",
       "      <td>Laos</td>\n",
       "      <td>26.219198</td>\n",
       "    </tr>\n",
       "    <tr>\n",
       "      <th>96</th>\n",
       "      <td>Kazakhstan</td>\n",
       "      <td>25.404600</td>\n",
       "    </tr>\n",
       "  </tbody>\n",
       "</table>\n",
       "</div>"
      ],
      "text/plain": [
       "        country  suicideper100th\n",
       "80       Guyana        35.752872\n",
       "110   Lithuania        33.341860\n",
       "180   Sri Lanka        28.104046\n",
       "159      Russia        27.874160\n",
       "16      Belarus        26.874690\n",
       "103        Laos        26.219198\n",
       "96   Kazakhstan        25.404600"
      ]
     },
     "execution_count": 10,
     "metadata": {},
     "output_type": "execute_result"
    }
   ],
   "source": [
    "# Identify Upper Extremes\n",
    "\n",
    "df2.loc[(df2['suicideper100th']>=25),('country','suicideper100th')].sort_values(by='suicideper100th',ascending=False)"
   ]
  },
  {
   "cell_type": "code",
   "execution_count": 11,
   "metadata": {
    "collapsed": false
   },
   "outputs": [
    {
     "data": {
      "text/html": [
       "<div>\n",
       "<table border=\"1\" class=\"dataframe\">\n",
       "  <thead>\n",
       "    <tr style=\"text-align: right;\">\n",
       "      <th></th>\n",
       "      <th>country</th>\n",
       "      <th>suicideper100th</th>\n",
       "    </tr>\n",
       "  </thead>\n",
       "  <tbody>\n",
       "    <tr>\n",
       "      <th>95</th>\n",
       "      <td>Jordan</td>\n",
       "      <td>0.201449</td>\n",
       "    </tr>\n",
       "    <tr>\n",
       "      <th>186</th>\n",
       "      <td>Syria</td>\n",
       "      <td>0.523528</td>\n",
       "    </tr>\n",
       "    <tr>\n",
       "      <th>11</th>\n",
       "      <td>Azerbaijan</td>\n",
       "      <td>1.380965</td>\n",
       "    </tr>\n",
       "    <tr>\n",
       "      <th>201</th>\n",
       "      <td>United Arab Emirates</td>\n",
       "      <td>1.392951</td>\n",
       "    </tr>\n",
       "    <tr>\n",
       "      <th>101</th>\n",
       "      <td>Kuwait</td>\n",
       "      <td>1.498057</td>\n",
       "    </tr>\n",
       "  </tbody>\n",
       "</table>\n",
       "</div>"
      ],
      "text/plain": [
       "                  country  suicideper100th\n",
       "95                 Jordan         0.201449\n",
       "186                 Syria         0.523528\n",
       "11             Azerbaijan         1.380965\n",
       "201  United Arab Emirates         1.392951\n",
       "101                Kuwait         1.498057"
      ]
     },
     "execution_count": 11,
     "metadata": {},
     "output_type": "execute_result"
    }
   ],
   "source": [
    "# Identify Lower Extremes\n",
    "\n",
    "df2.loc[(df2['suicideper100th']<=1.5),('country','suicideper100th')].sort_values(by='suicideper100th')"
   ]
  },
  {
   "cell_type": "markdown",
   "metadata": {},
   "source": [
    "### Employment Rate  ###\n",
    "\n",
    "The distribution of employment rates centers around 60%, with a high in the 80s and a low in the 30s.  It's important to note that the age cutoff is 15, which means that full-time high school and university-level students count as a negative in this metric.  So many high-performing economies are actually in the middle.\n",
    "\n",
    "African countries are found at the high end of the range, while Middle Eastern countries are at the low end.\n",
    "\n",
    "Two countries remaining in the dataset did not have employment rates reported.\n"
   ]
  },
  {
   "cell_type": "code",
   "execution_count": 12,
   "metadata": {
    "collapsed": false,
    "scrolled": true
   },
   "outputs": [
    {
     "data": {
      "text/plain": [
       "<matplotlib.text.Text at 0xb02a9e8>"
      ]
     },
     "execution_count": 12,
     "metadata": {},
     "output_type": "execute_result"
    },
    {
     "data": {
      "image/png": "[encoded data removed]",
      "text/plain": [
       "<matplotlib.figure.Figure at 0xaff69e8>"
      ]
     },
     "metadata": {},
     "output_type": "display_data"
    }
   ],
   "source": [
    "# Employment Rate Distribution\n",
    "\n",
    "plt.figure(figsize=(10,5))\n",
    "g2 = sns.distplot(df2['employrate'],kde=False)\n",
    "g2.axes.set_title('Employment Rate Distribution',fontsize=16)\n",
    "g2.set_xlabel('Employment Rate', fontsize=14)\n",
    "g2.set_ylabel('Number of Countries', fontsize=14)"
   ]
  },
  {
   "cell_type": "code",
   "execution_count": 13,
   "metadata": {
    "collapsed": false
   },
   "outputs": [
    {
     "data": {
      "text/html": [
       "<div>\n",
       "<table border=\"1\" class=\"dataframe\">\n",
       "  <thead>\n",
       "    <tr style=\"text-align: right;\">\n",
       "      <th></th>\n",
       "      <th>country</th>\n",
       "      <th>employrate</th>\n",
       "    </tr>\n",
       "  </thead>\n",
       "  <tbody>\n",
       "    <tr>\n",
       "      <th>29</th>\n",
       "      <td>Burundi</td>\n",
       "      <td>83.199997</td>\n",
       "    </tr>\n",
       "    <tr>\n",
       "      <th>199</th>\n",
       "      <td>Uganda</td>\n",
       "      <td>83.199997</td>\n",
       "    </tr>\n",
       "    <tr>\n",
       "      <th>114</th>\n",
       "      <td>Madagascar</td>\n",
       "      <td>83.000000</td>\n",
       "    </tr>\n",
       "    <tr>\n",
       "      <th>78</th>\n",
       "      <td>Guinea</td>\n",
       "      <td>81.500000</td>\n",
       "    </tr>\n",
       "    <tr>\n",
       "      <th>28</th>\n",
       "      <td>Burkina Faso</td>\n",
       "      <td>81.300003</td>\n",
       "    </tr>\n",
       "    <tr>\n",
       "      <th>60</th>\n",
       "      <td>Ethiopia</td>\n",
       "      <td>80.699997</td>\n",
       "    </tr>\n",
       "  </tbody>\n",
       "</table>\n",
       "</div>"
      ],
      "text/plain": [
       "          country  employrate\n",
       "29        Burundi   83.199997\n",
       "199        Uganda   83.199997\n",
       "114    Madagascar   83.000000\n",
       "78         Guinea   81.500000\n",
       "28   Burkina Faso   81.300003\n",
       "60       Ethiopia   80.699997"
      ]
     },
     "execution_count": 13,
     "metadata": {},
     "output_type": "execute_result"
    }
   ],
   "source": [
    "# Identify Upper Extremes\n",
    "\n",
    "df2.loc[(df2['employrate']>=80),('country','employrate')].sort_values(by='employrate',ascending=False)\n"
   ]
  },
  {
   "cell_type": "code",
   "execution_count": 14,
   "metadata": {
    "collapsed": false
   },
   "outputs": [
    {
     "data": {
      "text/html": [
       "<div>\n",
       "<table border=\"1\" class=\"dataframe\">\n",
       "  <thead>\n",
       "    <tr style=\"text-align: right;\">\n",
       "      <th></th>\n",
       "      <th>country</th>\n",
       "      <th>employrate</th>\n",
       "    </tr>\n",
       "  </thead>\n",
       "  <tbody>\n",
       "    <tr>\n",
       "      <th>113</th>\n",
       "      <td>Macedonia, FYR</td>\n",
       "      <td>34.900002</td>\n",
       "    </tr>\n",
       "    <tr>\n",
       "      <th>89</th>\n",
       "      <td>Iraq</td>\n",
       "      <td>37.400002</td>\n",
       "    </tr>\n",
       "    <tr>\n",
       "      <th>95</th>\n",
       "      <td>Jordan</td>\n",
       "      <td>38.900002</td>\n",
       "    </tr>\n",
       "    <tr>\n",
       "      <th>210</th>\n",
       "      <td>Yemen, Rep.</td>\n",
       "      <td>39.000000</td>\n",
       "    </tr>\n",
       "  </tbody>\n",
       "</table>\n",
       "</div>"
      ],
      "text/plain": [
       "            country  employrate\n",
       "113  Macedonia, FYR   34.900002\n",
       "89             Iraq   37.400002\n",
       "95           Jordan   38.900002\n",
       "210     Yemen, Rep.   39.000000"
      ]
     },
     "execution_count": 14,
     "metadata": {},
     "output_type": "execute_result"
    }
   ],
   "source": [
    "# Identify lower Extremes\n",
    "\n",
    "df2.loc[(df2['employrate']<=40),('country','employrate')].sort_values(by='employrate')\n"
   ]
  },
  {
   "cell_type": "markdown",
   "metadata": {},
   "source": [
    "#### Suicide Rate vs. Employment Rate ####\n",
    "\n",
    "Suicide rate and employment rate are both reported as continuous quantitative variables.\n",
    "\n",
    "The Pearson correlation coefficient (r value) of approximately 0.049 has an associated p-value of about 0.546.  A scatterplot shows a nearly horizontal regression line, points that do not follow the regression line very closely, and no evidence of a non-linear relationship in the data.  According to this data, there is no statistically significant linear relationship between employment rate and suicide rate.    "
   ]
  },
  {
   "cell_type": "code",
   "execution_count": 15,
   "metadata": {
    "collapsed": false
   },
   "outputs": [
    {
     "data": {
      "text/plain": [
       "(0.049336439698108213, 0.54610491863906219)"
      ]
     },
     "execution_count": 15,
     "metadata": {},
     "output_type": "execute_result"
    }
   ],
   "source": [
    "# Calculate statistics\n",
    "\n",
    "stats.pearsonr(df2['employrate'],df2['suicideper100th'])"
   ]
  },
  {
   "cell_type": "code",
   "execution_count": 16,
   "metadata": {
    "collapsed": false
   },
   "outputs": [
    {
     "data": {
      "text/plain": [
       "<matplotlib.text.Text at 0xaa07d30>"
      ]
     },
     "execution_count": 16,
     "metadata": {},
     "output_type": "execute_result"
    },
    {
     "data": {
      "image/png": "[encoded data removed]",
      "text/plain": [
       "<matplotlib.figure.Figure at 0xa76da20>"
      ]
     },
     "metadata": {},
     "output_type": "display_data"
    }
   ],
   "source": [
    "# Create scatterplot\n",
    "\n",
    "plt.figure(figsize=(10,6))\n",
    "g3 = sns.regplot(x='employrate',y='suicideper100th',data=df2)\n",
    "g3.axes.set_title('Suicide Rate vs. Employment Rate',fontsize=16)\n",
    "g3.set_xlabel('Employment Rate',fontsize=14)\n",
    "g3.set_ylabel('Suicide Rate',fontsize=14)"
   ]
  },
  {
   "cell_type": "markdown",
   "metadata": {},
   "source": [
    "### Armed Forces Rate ###\n",
    "\n",
    "The vast majority of countries had armed forces rates of less than 1% of population.  This distribution is heavily right-skewed.\n",
    "\n",
    "Outliers on the high side (above 6%) are North Korea, Eritrea, Iraq, and Singapore. \n",
    "\n",
    "On the low end are Haiti (which disbanded its military in 1995) and a number of African countries.."
   ]
  },
  {
   "cell_type": "code",
   "execution_count": 17,
   "metadata": {
    "collapsed": false
   },
   "outputs": [
    {
     "data": {
      "text/plain": [
       "<matplotlib.text.Text at 0xaab4908>"
      ]
     },
     "execution_count": 17,
     "metadata": {},
     "output_type": "execute_result"
    },
    {
     "data": {
      "image/png": "[encoded data removed]",
      "text/plain": [
       "<matplotlib.figure.Figure at 0xaa8def0>"
      ]
     },
     "metadata": {},
     "output_type": "display_data"
    }
   ],
   "source": [
    "# Visualize distribution with histogram\n",
    "\n",
    "plt.figure(figsize=(10,5))\n",
    "g4 = sns.distplot(df2['armedforcesrate'],kde=False,bins=12)\n",
    "g4.set_title('Armed Forces Rate Distribution',fontsize=16)\n",
    "g4.set_xlabel('Armed Forces Rate', fontsize=14)\n",
    "g4.set_ylabel('Number of Countries', fontsize=14)"
   ]
  },
  {
   "cell_type": "code",
   "execution_count": 18,
   "metadata": {
    "collapsed": false
   },
   "outputs": [
    {
     "data": {
      "text/html": [
       "<div>\n",
       "<table border=\"1\" class=\"dataframe\">\n",
       "  <thead>\n",
       "    <tr style=\"text-align: right;\">\n",
       "      <th></th>\n",
       "      <th>country</th>\n",
       "      <th>armedforcesrate</th>\n",
       "    </tr>\n",
       "  </thead>\n",
       "  <tbody>\n",
       "    <tr>\n",
       "      <th>99</th>\n",
       "      <td>Korea, Dem. Rep.</td>\n",
       "      <td>10.638521</td>\n",
       "    </tr>\n",
       "    <tr>\n",
       "      <th>58</th>\n",
       "      <td>Eritrea</td>\n",
       "      <td>9.820127</td>\n",
       "    </tr>\n",
       "    <tr>\n",
       "      <th>89</th>\n",
       "      <td>Iraq</td>\n",
       "      <td>7.737913</td>\n",
       "    </tr>\n",
       "    <tr>\n",
       "      <th>173</th>\n",
       "      <td>Singapore</td>\n",
       "      <td>6.394936</td>\n",
       "    </tr>\n",
       "  </tbody>\n",
       "</table>\n",
       "</div>"
      ],
      "text/plain": [
       "              country  armedforcesrate\n",
       "99   Korea, Dem. Rep.        10.638521\n",
       "58            Eritrea         9.820127\n",
       "89               Iraq         7.737913\n",
       "173         Singapore         6.394936"
      ]
     },
     "execution_count": 18,
     "metadata": {},
     "output_type": "execute_result"
    }
   ],
   "source": [
    "# Identify higher outliers\n",
    "\n",
    "df2.loc[(df2['armedforcesrate']>=6.0),('country','armedforcesrate')].sort_values(by='armedforcesrate',ascending=False)"
   ]
  },
  {
   "cell_type": "code",
   "execution_count": 19,
   "metadata": {
    "collapsed": false
   },
   "outputs": [
    {
     "data": {
      "text/html": [
       "<div>\n",
       "<table border=\"1\" class=\"dataframe\">\n",
       "  <thead>\n",
       "    <tr style=\"text-align: right;\">\n",
       "      <th></th>\n",
       "      <th>country</th>\n",
       "      <th>armedforcesrate</th>\n",
       "    </tr>\n",
       "  </thead>\n",
       "  <tbody>\n",
       "    <tr>\n",
       "      <th>81</th>\n",
       "      <td>Haiti</td>\n",
       "      <td>0.000000</td>\n",
       "    </tr>\n",
       "    <tr>\n",
       "      <th>131</th>\n",
       "      <td>Mozambique</td>\n",
       "      <td>0.102269</td>\n",
       "    </tr>\n",
       "    <tr>\n",
       "      <th>149</th>\n",
       "      <td>Papua New Guinea</td>\n",
       "      <td>0.105115</td>\n",
       "    </tr>\n",
       "    <tr>\n",
       "      <th>115</th>\n",
       "      <td>Malawi</td>\n",
       "      <td>0.114592</td>\n",
       "    </tr>\n",
       "    <tr>\n",
       "      <th>107</th>\n",
       "      <td>Liberia</td>\n",
       "      <td>0.129953</td>\n",
       "    </tr>\n",
       "    <tr>\n",
       "      <th>70</th>\n",
       "      <td>Ghana</td>\n",
       "      <td>0.131487</td>\n",
       "    </tr>\n",
       "    <tr>\n",
       "      <th>67</th>\n",
       "      <td>Gambia</td>\n",
       "      <td>0.134591</td>\n",
       "    </tr>\n",
       "    <tr>\n",
       "      <th>189</th>\n",
       "      <td>Tanzania</td>\n",
       "      <td>0.134730</td>\n",
       "    </tr>\n",
       "    <tr>\n",
       "      <th>35</th>\n",
       "      <td>Central African Rep.</td>\n",
       "      <td>0.148659</td>\n",
       "    </tr>\n",
       "  </tbody>\n",
       "</table>\n",
       "</div>"
      ],
      "text/plain": [
       "                  country  armedforcesrate\n",
       "81                  Haiti         0.000000\n",
       "131            Mozambique         0.102269\n",
       "149      Papua New Guinea         0.105115\n",
       "115                Malawi         0.114592\n",
       "107               Liberia         0.129953\n",
       "70                  Ghana         0.131487\n",
       "67                 Gambia         0.134591\n",
       "189              Tanzania         0.134730\n",
       "35   Central African Rep.         0.148659"
      ]
     },
     "execution_count": 19,
     "metadata": {},
     "output_type": "execute_result"
    }
   ],
   "source": [
    "# Identify lower outliers\n",
    "\n",
    "df2.loc[(df2['armedforcesrate']<=0.15),('country','armedforcesrate')].sort_values(by='armedforcesrate')"
   ]
  },
  {
   "cell_type": "markdown",
   "metadata": {},
   "source": [
    "#### Suicide Rate vs. Armed Forces Rate ####\n",
    "\n",
    "Suicide rate and armed forces rate are both reported as continuous quantitative variables.\n",
    "\n",
    "The Pearson correlation coefficient of approximately -0.101, which indicates a slightly negative correlation, has an associated p-value of about 0.216.  The scatterplot shows a regression line with a very slight downward slope and points that do not follow the line very closely.  No non-linear relationship is apparant, and the linear relationship is very weak and not statistically significant.  In this case, the null hyopthesis, which states suicide rate and armed forces rate are nor associated, cannot be rejected."
   ]
  },
  {
   "cell_type": "code",
   "execution_count": 20,
   "metadata": {
    "collapsed": false
   },
   "outputs": [
    {
     "data": {
      "text/plain": [
       "(-0.10092492866358967, 0.21602171662330533)"
      ]
     },
     "execution_count": 20,
     "metadata": {},
     "output_type": "execute_result"
    }
   ],
   "source": [
    "# Calculate statistics\n",
    "\n",
    "stats.pearsonr(df2['armedforcesrate'],df2['suicideper100th'])"
   ]
  },
  {
   "cell_type": "code",
   "execution_count": 21,
   "metadata": {
    "collapsed": false
   },
   "outputs": [
    {
     "data": {
      "text/plain": [
       "<matplotlib.text.Text at 0xaa99470>"
      ]
     },
     "execution_count": 21,
     "metadata": {},
     "output_type": "execute_result"
    },
    {
     "data": {
      "image/png": "[encoded data removed]",
      "text/plain": [
       "<matplotlib.figure.Figure at 0xaac0978>"
      ]
     },
     "metadata": {},
     "output_type": "display_data"
    }
   ],
   "source": [
    "# Create scatterplot\n",
    "\n",
    "plt.figure(figsize=(10,5))\n",
    "g5 = sns.regplot(x='armedforcesrate',y='suicideper100th',data=df2)\n",
    "g5.set_title('Suicide Rate vs. Armed Forces Rate',fontsize=16)\n",
    "g5.set_xlabel('Armed Forces Rate', fontsize=14)\n",
    "g5.set_ylabel('Suicide Rate', fontsize=14)"
   ]
  },
  {
   "cell_type": "markdown",
   "metadata": {},
   "source": [
    "### Polity Scores ###\n",
    "\n",
    "GapMinder classified each country's political freedom on a scale of -10 (autocracy) to +10 (democracy).  For more details, see the <a href=\"http://www.systemicpeace.org/polityproject.html\" target=\"_blank\">Polity IV Project</a> website.\n",
    "\n",
    "Thirty-two countries were given the highest possible score, including much of Europe and North America, while 46 countries received negative scores.  This distribution is heavily left-skewed.\n",
    "\n",
    "Countries with low scores are not limited to a particular geographic region. "
   ]
  },
  {
   "cell_type": "code",
   "execution_count": 22,
   "metadata": {
    "collapsed": false
   },
   "outputs": [
    {
     "data": {
      "text/plain": [
       "<matplotlib.text.Text at 0xb112b70>"
      ]
     },
     "execution_count": 22,
     "metadata": {},
     "output_type": "execute_result"
    },
    {
     "data": {
      "image/png": "[encoded data removed]",
      "text/plain": [
       "<matplotlib.figure.Figure at 0xb108d30>"
      ]
     },
     "metadata": {},
     "output_type": "display_data"
    }
   ],
   "source": [
    "# Polity Score distribution\n",
    "\n",
    "plt.figure(figsize=(10,5))\n",
    "g6 = sns.distplot(df2['polityscore'],bins=21,kde=False)\n",
    "g6.set_title('Polity Score Distribution',fontsize=16)\n",
    "g6.set_xlabel('Polity Score',fontsize=14)\n",
    "g6.set_ylabel('Number of Countries',fontsize=14)"
   ]
  },
  {
   "cell_type": "code",
   "execution_count": 23,
   "metadata": {
    "collapsed": false
   },
   "outputs": [
    {
     "data": {
      "text/plain": [
       "country    45\n",
       "dtype: int64"
      ]
     },
     "execution_count": 23,
     "metadata": {},
     "output_type": "execute_result"
    }
   ],
   "source": [
    "# Count scores less than zero\n",
    "\n",
    "df2.loc[df2['polityscore']<0,['country']].count()"
   ]
  },
  {
   "cell_type": "code",
   "execution_count": 24,
   "metadata": {
    "collapsed": false
   },
   "outputs": [
    {
     "data": {
      "text/html": [
       "<div>\n",
       "<table border=\"1\" class=\"dataframe\">\n",
       "  <thead>\n",
       "    <tr style=\"text-align: right;\">\n",
       "      <th></th>\n",
       "      <th>country</th>\n",
       "      <th>polityscore</th>\n",
       "    </tr>\n",
       "  </thead>\n",
       "  <tbody>\n",
       "    <tr>\n",
       "      <th>9</th>\n",
       "      <td>Australia</td>\n",
       "      <td>10</td>\n",
       "    </tr>\n",
       "    <tr>\n",
       "      <th>10</th>\n",
       "      <td>Austria</td>\n",
       "      <td>10</td>\n",
       "    </tr>\n",
       "    <tr>\n",
       "      <th>32</th>\n",
       "      <td>Canada</td>\n",
       "      <td>10</td>\n",
       "    </tr>\n",
       "    <tr>\n",
       "      <th>37</th>\n",
       "      <td>Chile</td>\n",
       "      <td>10</td>\n",
       "    </tr>\n",
       "    <tr>\n",
       "      <th>44</th>\n",
       "      <td>Costa Rica</td>\n",
       "      <td>10</td>\n",
       "    </tr>\n",
       "    <tr>\n",
       "      <th>48</th>\n",
       "      <td>Cyprus</td>\n",
       "      <td>10</td>\n",
       "    </tr>\n",
       "    <tr>\n",
       "      <th>50</th>\n",
       "      <td>Denmark</td>\n",
       "      <td>10</td>\n",
       "    </tr>\n",
       "    <tr>\n",
       "      <th>63</th>\n",
       "      <td>Finland</td>\n",
       "      <td>10</td>\n",
       "    </tr>\n",
       "    <tr>\n",
       "      <th>69</th>\n",
       "      <td>Germany</td>\n",
       "      <td>10</td>\n",
       "    </tr>\n",
       "    <tr>\n",
       "      <th>72</th>\n",
       "      <td>Greece</td>\n",
       "      <td>10</td>\n",
       "    </tr>\n",
       "    <tr>\n",
       "      <th>84</th>\n",
       "      <td>Hungary</td>\n",
       "      <td>10</td>\n",
       "    </tr>\n",
       "    <tr>\n",
       "      <th>90</th>\n",
       "      <td>Ireland</td>\n",
       "      <td>10</td>\n",
       "    </tr>\n",
       "    <tr>\n",
       "      <th>91</th>\n",
       "      <td>Israel</td>\n",
       "      <td>10</td>\n",
       "    </tr>\n",
       "    <tr>\n",
       "      <th>92</th>\n",
       "      <td>Italy</td>\n",
       "      <td>10</td>\n",
       "    </tr>\n",
       "    <tr>\n",
       "      <th>94</th>\n",
       "      <td>Japan</td>\n",
       "      <td>10</td>\n",
       "    </tr>\n",
       "    <tr>\n",
       "      <th>110</th>\n",
       "      <td>Lithuania</td>\n",
       "      <td>10</td>\n",
       "    </tr>\n",
       "    <tr>\n",
       "      <th>123</th>\n",
       "      <td>Mauritius</td>\n",
       "      <td>10</td>\n",
       "    </tr>\n",
       "    <tr>\n",
       "      <th>128</th>\n",
       "      <td>Mongolia</td>\n",
       "      <td>10</td>\n",
       "    </tr>\n",
       "    <tr>\n",
       "      <th>136</th>\n",
       "      <td>Netherlands</td>\n",
       "      <td>10</td>\n",
       "    </tr>\n",
       "    <tr>\n",
       "      <th>139</th>\n",
       "      <td>New Zealand</td>\n",
       "      <td>10</td>\n",
       "    </tr>\n",
       "    <tr>\n",
       "      <th>144</th>\n",
       "      <td>Norway</td>\n",
       "      <td>10</td>\n",
       "    </tr>\n",
       "    <tr>\n",
       "      <th>153</th>\n",
       "      <td>Poland</td>\n",
       "      <td>10</td>\n",
       "    </tr>\n",
       "    <tr>\n",
       "      <th>154</th>\n",
       "      <td>Portugal</td>\n",
       "      <td>10</td>\n",
       "    </tr>\n",
       "    <tr>\n",
       "      <th>174</th>\n",
       "      <td>Slovak Republic</td>\n",
       "      <td>10</td>\n",
       "    </tr>\n",
       "    <tr>\n",
       "      <th>175</th>\n",
       "      <td>Slovenia</td>\n",
       "      <td>10</td>\n",
       "    </tr>\n",
       "    <tr>\n",
       "      <th>179</th>\n",
       "      <td>Spain</td>\n",
       "      <td>10</td>\n",
       "    </tr>\n",
       "    <tr>\n",
       "      <th>184</th>\n",
       "      <td>Sweden</td>\n",
       "      <td>10</td>\n",
       "    </tr>\n",
       "    <tr>\n",
       "      <th>185</th>\n",
       "      <td>Switzerland</td>\n",
       "      <td>10</td>\n",
       "    </tr>\n",
       "    <tr>\n",
       "      <th>194</th>\n",
       "      <td>Trinidad and Tobago</td>\n",
       "      <td>10</td>\n",
       "    </tr>\n",
       "    <tr>\n",
       "      <th>202</th>\n",
       "      <td>United Kingdom</td>\n",
       "      <td>10</td>\n",
       "    </tr>\n",
       "    <tr>\n",
       "      <th>203</th>\n",
       "      <td>United States</td>\n",
       "      <td>10</td>\n",
       "    </tr>\n",
       "    <tr>\n",
       "      <th>204</th>\n",
       "      <td>Uruguay</td>\n",
       "      <td>10</td>\n",
       "    </tr>\n",
       "  </tbody>\n",
       "</table>\n",
       "</div>"
      ],
      "text/plain": [
       "                 country  polityscore\n",
       "9              Australia           10\n",
       "10               Austria           10\n",
       "32                Canada           10\n",
       "37                 Chile           10\n",
       "44            Costa Rica           10\n",
       "48                Cyprus           10\n",
       "50               Denmark           10\n",
       "63               Finland           10\n",
       "69               Germany           10\n",
       "72                Greece           10\n",
       "84               Hungary           10\n",
       "90               Ireland           10\n",
       "91                Israel           10\n",
       "92                 Italy           10\n",
       "94                 Japan           10\n",
       "110            Lithuania           10\n",
       "123            Mauritius           10\n",
       "128             Mongolia           10\n",
       "136          Netherlands           10\n",
       "139          New Zealand           10\n",
       "144               Norway           10\n",
       "153               Poland           10\n",
       "154             Portugal           10\n",
       "174      Slovak Republic           10\n",
       "175             Slovenia           10\n",
       "179                Spain           10\n",
       "184               Sweden           10\n",
       "185          Switzerland           10\n",
       "194  Trinidad and Tobago           10\n",
       "202       United Kingdom           10\n",
       "203        United States           10\n",
       "204              Uruguay           10"
      ]
     },
     "execution_count": 24,
     "metadata": {},
     "output_type": "execute_result"
    }
   ],
   "source": [
    "# Highest-ranking countries\n",
    "\n",
    "df2.loc[(df2['polityscore']>=9.1),('country','polityscore')].sort_values(by='country',ascending=True)"
   ]
  },
  {
   "cell_type": "code",
   "execution_count": 25,
   "metadata": {
    "collapsed": false
   },
   "outputs": [
    {
     "data": {
      "text/html": [
       "<div>\n",
       "<table border=\"1\" class=\"dataframe\">\n",
       "  <thead>\n",
       "    <tr style=\"text-align: right;\">\n",
       "      <th></th>\n",
       "      <th>country</th>\n",
       "      <th>polityscore</th>\n",
       "    </tr>\n",
       "  </thead>\n",
       "  <tbody>\n",
       "    <tr>\n",
       "      <th>156</th>\n",
       "      <td>Qatar</td>\n",
       "      <td>-10</td>\n",
       "    </tr>\n",
       "    <tr>\n",
       "      <th>167</th>\n",
       "      <td>Saudi Arabia</td>\n",
       "      <td>-10</td>\n",
       "    </tr>\n",
       "    <tr>\n",
       "      <th>99</th>\n",
       "      <td>Korea, Dem. Rep.</td>\n",
       "      <td>-9</td>\n",
       "    </tr>\n",
       "    <tr>\n",
       "      <th>197</th>\n",
       "      <td>Turkmenistan</td>\n",
       "      <td>-9</td>\n",
       "    </tr>\n",
       "    <tr>\n",
       "      <th>205</th>\n",
       "      <td>Uzbekistan</td>\n",
       "      <td>-9</td>\n",
       "    </tr>\n",
       "    <tr>\n",
       "      <th>145</th>\n",
       "      <td>Oman</td>\n",
       "      <td>-8</td>\n",
       "    </tr>\n",
       "    <tr>\n",
       "      <th>201</th>\n",
       "      <td>United Arab Emirates</td>\n",
       "      <td>-8</td>\n",
       "    </tr>\n",
       "    <tr>\n",
       "      <th>11</th>\n",
       "      <td>Azerbaijan</td>\n",
       "      <td>-7</td>\n",
       "    </tr>\n",
       "    <tr>\n",
       "      <th>13</th>\n",
       "      <td>Bahrain</td>\n",
       "      <td>-7</td>\n",
       "    </tr>\n",
       "    <tr>\n",
       "      <th>16</th>\n",
       "      <td>Belarus</td>\n",
       "      <td>-7</td>\n",
       "    </tr>\n",
       "    <tr>\n",
       "      <th>38</th>\n",
       "      <td>China</td>\n",
       "      <td>-7</td>\n",
       "    </tr>\n",
       "    <tr>\n",
       "      <th>47</th>\n",
       "      <td>Cuba</td>\n",
       "      <td>-7</td>\n",
       "    </tr>\n",
       "    <tr>\n",
       "      <th>58</th>\n",
       "      <td>Eritrea</td>\n",
       "      <td>-7</td>\n",
       "    </tr>\n",
       "    <tr>\n",
       "      <th>88</th>\n",
       "      <td>Iran</td>\n",
       "      <td>-7</td>\n",
       "    </tr>\n",
       "    <tr>\n",
       "      <th>101</th>\n",
       "      <td>Kuwait</td>\n",
       "      <td>-7</td>\n",
       "    </tr>\n",
       "    <tr>\n",
       "      <th>103</th>\n",
       "      <td>Laos</td>\n",
       "      <td>-7</td>\n",
       "    </tr>\n",
       "    <tr>\n",
       "      <th>108</th>\n",
       "      <td>Libya</td>\n",
       "      <td>-7</td>\n",
       "    </tr>\n",
       "    <tr>\n",
       "      <th>186</th>\n",
       "      <td>Syria</td>\n",
       "      <td>-7</td>\n",
       "    </tr>\n",
       "    <tr>\n",
       "      <th>208</th>\n",
       "      <td>Vietnam</td>\n",
       "      <td>-7</td>\n",
       "    </tr>\n",
       "  </tbody>\n",
       "</table>\n",
       "</div>"
      ],
      "text/plain": [
       "                  country  polityscore\n",
       "156                 Qatar          -10\n",
       "167          Saudi Arabia          -10\n",
       "99       Korea, Dem. Rep.           -9\n",
       "197          Turkmenistan           -9\n",
       "205            Uzbekistan           -9\n",
       "145                  Oman           -8\n",
       "201  United Arab Emirates           -8\n",
       "11             Azerbaijan           -7\n",
       "13                Bahrain           -7\n",
       "16                Belarus           -7\n",
       "38                  China           -7\n",
       "47                   Cuba           -7\n",
       "58                Eritrea           -7\n",
       "88                   Iran           -7\n",
       "101                Kuwait           -7\n",
       "103                  Laos           -7\n",
       "108                 Libya           -7\n",
       "186                 Syria           -7\n",
       "208               Vietnam           -7"
      ]
     },
     "execution_count": 25,
     "metadata": {},
     "output_type": "execute_result"
    }
   ],
   "source": [
    "# Identify lower outliers\n",
    "\n",
    "df2.loc[(df2['polityscore']<=-7),('country','polityscore')].sort_values(by=['polityscore','country'],ascending=True)"
   ]
  },
  {
   "cell_type": "markdown",
   "metadata": {},
   "source": [
    "#### Suicide Rate vs. Polity Score ####\n"
   ]
  },
  {
   "cell_type": "markdown",
   "metadata": {},
   "source": [
    "Polity score was reported as a discrete quantitative variable.\n",
    "\n",
    "The Pearson correlation coefficient of approximately 0.162, which indicates a weak but very slightly positive linear relationship between suicide rate and polity score, has an associated p-value of about 0.045.   Looking at the scatterplot, the spread of points and slight upward slope of the regression line confirms this assessment, and does not show any non-linear relationship in the data.  \n",
    "\n",
    "The Pearson coefficent (r value) is statistically significant; we have enough evidence to reject the null hypothesis, which states that polity score and suicide rate are not associated.   \n",
    "\n",
    "Squaring R yields a value of about 0.026, which means that polity score explains 2.6 percent of the variability in suicide rate.  We would need many more variables to be added to the model in order to make truly effective predictions."
   ]
  },
  {
   "cell_type": "code",
   "execution_count": 26,
   "metadata": {
    "collapsed": false
   },
   "outputs": [
    {
     "data": {
      "text/plain": [
       "(0.16234529356783772, 0.045686170456082961)"
      ]
     },
     "execution_count": 26,
     "metadata": {},
     "output_type": "execute_result"
    }
   ],
   "source": [
    "# Calculate statistics\n",
    "\n",
    "stats.pearsonr(df2['polityscore'],df2['suicideper100th'])"
   ]
  },
  {
   "cell_type": "code",
   "execution_count": 27,
   "metadata": {
    "collapsed": false
   },
   "outputs": [
    {
     "data": {
      "text/plain": [
       "0.026355899024999997"
      ]
     },
     "execution_count": 27,
     "metadata": {},
     "output_type": "execute_result"
    }
   ],
   "source": [
    "0.162345**2"
   ]
  },
  {
   "cell_type": "code",
   "execution_count": 28,
   "metadata": {
    "collapsed": false
   },
   "outputs": [
    {
     "data": {
      "text/plain": [
       "<matplotlib.text.Text at 0xb1caeb8>"
      ]
     },
     "execution_count": 28,
     "metadata": {},
     "output_type": "execute_result"
    },
    {
     "data": {
      "image/png": "[encoded data removed]",
      "text/plain": [
       "<matplotlib.figure.Figure at 0xb156518>"
      ]
     },
     "metadata": {},
     "output_type": "display_data"
    }
   ],
   "source": [
    "# Create scatterplot\n",
    "\n",
    "plt.figure(figsize=(10,5))\n",
    "g7 = sns.regplot(x='polityscore',y='suicideper100th',data=df2)\n",
    "g7.set_title('Suicide Rate vs. Polity Score',fontsize=16)\n",
    "g7.set_xlabel('Polity Score', fontsize=14)\n",
    "g7.set_ylabel('Suicide Rate', fontsize=14)"
   ]
  }
 ],
 "metadata": {
  "kernelspec": {
   "display_name": "Python 3",
   "language": "python",
   "name": "python3"
  },
  "language_info": {
   "codemirror_mode": {
    "name": "ipython",
    "version": 3
   },
   "file_extension": ".py",
   "mimetype": "text/x-python",
   "name": "python",
   "nbconvert_exporter": "python",
   "pygments_lexer": "ipython3",
   "version": "3.5.1"
  }
 },
 "nbformat": 4,
 "nbformat_minor": 0
}
