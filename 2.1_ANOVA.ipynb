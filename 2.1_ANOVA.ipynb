{
 "cells": [
  {
   "cell_type": "markdown",
   "metadata": {},
   "source": [
    "### Introduction ###\n",
    "\n",
    "I am researching whether national suicide rates are correlated with economic opportunity, political freedom, and military presence, using the Gapminder dataset.  The variables I am using to measure these attributes are: Suicide Rate (per 100,000 population), Employment Rate, Armed Forces Rate (size of active military in proportion to population), and Polity Score.\n",
    "\n",
    "### Data Management and Visualization ###\n",
    "\n",
    "The first section of code below reads in the dataset, converts columns that were read in as strings to a numeric datatype, and subsets the dataframe to include only the columns with useful metrics.  I also dealt with missing data by removing incomplete records.\n",
    "\n",
    "For each variable, I visualized the distribution with a histogram, identified the outliers, and wrote a short summary of my observations.  Because suicide rate, employment rate, and armed forces rate are continuous quantitative variables rather than categorical, it made more sense to create histograms than frequency tables.  In histograms, variable value ranges (aggregated into bins) are indicated on the x-axis while the count of observations within each bin are reported on the y-axis.  Selecting the size of the bins in the histograms is an equivalent data management decision to grouping and binning in frequency tables.\n",
    "For the purposes of this assignment, I did reclassify the armed forces rates into new bins, and produced an updated frequency table.  \n",
    "\n",
    "Polity Score values were discrete rather than continuous.  I created both a histogram (using the existing bins) and a frequency table. \n",
    "\n",
    "### ANOVA ###\n",
    "\n",
    "Please see the ANOVA section under each univariate analysis.\n"
   ]
  },
  {
   "cell_type": "code",
   "execution_count": 77,
   "metadata": {
    "collapsed": false
   },
   "outputs": [],
   "source": [
    "# Import packages\n",
    "\n",
    "import pandas as pd\n",
    "import numpy as np\n",
    "\n",
    "import seaborn as sns\n",
    "import matplotlib as mpl\n",
    "import matplotlib.pyplot as plt\n",
    "\n",
    "import statsmodels.formula.api as smf\n",
    "import statsmodels.stats.multicomp as multi\n",
    "\n",
    "# Enable command results to be displayed in jupyter notebook\n",
    "\n",
    "%matplotlib inline\n",
    "\n",
    "# Read in data\n",
    "\n",
    "df = pd.read_csv('gapminder.csv',low_memory=False)"
   ]
  },
  {
   "cell_type": "markdown",
   "metadata": {},
   "source": [
    "#### Organizing Data ####"
   ]
  },
  {
   "cell_type": "code",
   "execution_count": 78,
   "metadata": {
    "collapsed": false
   },
   "outputs": [
    {
     "data": {
      "text/html": [
       "<div>\n",
       "<table border=\"1\" class=\"dataframe\">\n",
       "  <thead>\n",
       "    <tr style=\"text-align: right;\">\n",
       "      <th></th>\n",
       "      <th>country</th>\n",
       "      <th>incomeperperson</th>\n",
       "      <th>alcconsumption</th>\n",
       "      <th>armedforcesrate</th>\n",
       "      <th>breastcancerper100th</th>\n",
       "      <th>co2emissions</th>\n",
       "      <th>femaleemployrate</th>\n",
       "      <th>hivrate</th>\n",
       "      <th>internetuserate</th>\n",
       "      <th>lifeexpectancy</th>\n",
       "      <th>oilperperson</th>\n",
       "      <th>polityscore</th>\n",
       "      <th>relectricperperson</th>\n",
       "      <th>suicideper100th</th>\n",
       "      <th>employrate</th>\n",
       "      <th>urbanrate</th>\n",
       "    </tr>\n",
       "  </thead>\n",
       "  <tbody>\n",
       "    <tr>\n",
       "      <th>0</th>\n",
       "      <td>Afghanistan</td>\n",
       "      <td></td>\n",
       "      <td>.03</td>\n",
       "      <td>.5696534</td>\n",
       "      <td>26.8</td>\n",
       "      <td>75944000</td>\n",
       "      <td>25.6000003814697</td>\n",
       "      <td></td>\n",
       "      <td>3.65412162280064</td>\n",
       "      <td>48.673</td>\n",
       "      <td></td>\n",
       "      <td>0</td>\n",
       "      <td></td>\n",
       "      <td>6.68438529968262</td>\n",
       "      <td>55.7000007629394</td>\n",
       "      <td>24.04</td>\n",
       "    </tr>\n",
       "    <tr>\n",
       "      <th>1</th>\n",
       "      <td>Albania</td>\n",
       "      <td>1914.99655094922</td>\n",
       "      <td>7.29</td>\n",
       "      <td>1.0247361</td>\n",
       "      <td>57.4</td>\n",
       "      <td>223747333.333333</td>\n",
       "      <td>42.0999984741211</td>\n",
       "      <td></td>\n",
       "      <td>44.9899469578783</td>\n",
       "      <td>76.918</td>\n",
       "      <td></td>\n",
       "      <td>9</td>\n",
       "      <td>636.341383366604</td>\n",
       "      <td>7.69932985305786</td>\n",
       "      <td>51.4000015258789</td>\n",
       "      <td>46.72</td>\n",
       "    </tr>\n",
       "    <tr>\n",
       "      <th>2</th>\n",
       "      <td>Algeria</td>\n",
       "      <td>2231.99333515006</td>\n",
       "      <td>.69</td>\n",
       "      <td>2.306817</td>\n",
       "      <td>23.5</td>\n",
       "      <td>2932108666.66667</td>\n",
       "      <td>31.7000007629394</td>\n",
       "      <td>.1</td>\n",
       "      <td>12.5000733055148</td>\n",
       "      <td>73.131</td>\n",
       "      <td>.42009452521537</td>\n",
       "      <td>2</td>\n",
       "      <td>590.509814347428</td>\n",
       "      <td>4.8487696647644</td>\n",
       "      <td>50.5</td>\n",
       "      <td>65.22</td>\n",
       "    </tr>\n",
       "    <tr>\n",
       "      <th>3</th>\n",
       "      <td>Andorra</td>\n",
       "      <td>21943.3398976022</td>\n",
       "      <td>10.17</td>\n",
       "      <td></td>\n",
       "      <td></td>\n",
       "      <td></td>\n",
       "      <td></td>\n",
       "      <td></td>\n",
       "      <td>81</td>\n",
       "      <td></td>\n",
       "      <td></td>\n",
       "      <td></td>\n",
       "      <td></td>\n",
       "      <td>5.36217880249023</td>\n",
       "      <td></td>\n",
       "      <td>88.92</td>\n",
       "    </tr>\n",
       "  </tbody>\n",
       "</table>\n",
       "</div>"
      ],
      "text/plain": [
       "       country   incomeperperson alcconsumption armedforcesrate  \\\n",
       "0  Afghanistan                              .03        .5696534   \n",
       "1      Albania  1914.99655094922           7.29       1.0247361   \n",
       "2      Algeria  2231.99333515006            .69        2.306817   \n",
       "3      Andorra  21943.3398976022          10.17                   \n",
       "\n",
       "  breastcancerper100th      co2emissions  femaleemployrate hivrate  \\\n",
       "0                 26.8          75944000  25.6000003814697           \n",
       "1                 57.4  223747333.333333  42.0999984741211           \n",
       "2                 23.5  2932108666.66667  31.7000007629394      .1   \n",
       "3                                                                    \n",
       "\n",
       "    internetuserate lifeexpectancy     oilperperson polityscore  \\\n",
       "0  3.65412162280064         48.673                            0   \n",
       "1  44.9899469578783         76.918                            9   \n",
       "2  12.5000733055148         73.131  .42009452521537           2   \n",
       "3                81                                               \n",
       "\n",
       "  relectricperperson   suicideper100th        employrate urbanrate  \n",
       "0                     6.68438529968262  55.7000007629394     24.04  \n",
       "1   636.341383366604  7.69932985305786  51.4000015258789     46.72  \n",
       "2   590.509814347428   4.8487696647644              50.5     65.22  \n",
       "3                     5.36217880249023                       88.92  "
      ]
     },
     "execution_count": 78,
     "metadata": {},
     "output_type": "execute_result"
    }
   ],
   "source": [
    "# View the first few rows of the dataframe\n",
    "\n",
    "df.head(4)"
   ]
  },
  {
   "cell_type": "code",
   "execution_count": 79,
   "metadata": {
    "collapsed": false
   },
   "outputs": [
    {
     "name": "stdout",
     "output_type": "stream",
     "text": [
      "213\n",
      "16\n"
     ]
    }
   ],
   "source": [
    "# Get Dimensions of DataFrame\n",
    "\n",
    "# There are 213 Rows, 16 columns\n",
    "\n",
    "print(len(df))\n",
    "print(len(df.columns))"
   ]
  },
  {
   "cell_type": "code",
   "execution_count": 80,
   "metadata": {
    "collapsed": false
   },
   "outputs": [
    {
     "data": {
      "text/plain": [
       "dtype('O')"
      ]
     },
     "execution_count": 80,
     "metadata": {},
     "output_type": "execute_result"
    }
   ],
   "source": [
    "# Confirm current data type of column \n",
    "\n",
    "df['armedforcesrate'].dtype"
   ]
  },
  {
   "cell_type": "code",
   "execution_count": 81,
   "metadata": {
    "collapsed": false
   },
   "outputs": [],
   "source": [
    "# Convert the variables I want to keep to numeric\n",
    "\n",
    "numCols = ['suicideper100th','employrate','armedforcesrate','polityscore']\n",
    "\n",
    "for i in numCols:\n",
    "    df[i] = pd.to_numeric(df[i],errors='coerce')"
   ]
  },
  {
   "cell_type": "code",
   "execution_count": 82,
   "metadata": {
    "collapsed": false
   },
   "outputs": [
    {
     "data": {
      "text/plain": [
       "dtype('float64')"
      ]
     },
     "execution_count": 82,
     "metadata": {},
     "output_type": "execute_result"
    }
   ],
   "source": [
    "# Confirm data type conversion - now Float\n",
    "\n",
    "df['armedforcesrate'].dtype"
   ]
  },
  {
   "cell_type": "code",
   "execution_count": 83,
   "metadata": {
    "collapsed": false
   },
   "outputs": [
    {
     "data": {
      "text/html": [
       "<div>\n",
       "<table border=\"1\" class=\"dataframe\">\n",
       "  <thead>\n",
       "    <tr style=\"text-align: right;\">\n",
       "      <th></th>\n",
       "      <th>country</th>\n",
       "      <th>suicideper100th</th>\n",
       "      <th>employrate</th>\n",
       "      <th>armedforcesrate</th>\n",
       "      <th>polityscore</th>\n",
       "    </tr>\n",
       "  </thead>\n",
       "  <tbody>\n",
       "    <tr>\n",
       "      <th>0</th>\n",
       "      <td>Afghanistan</td>\n",
       "      <td>6.684385</td>\n",
       "      <td>55.700001</td>\n",
       "      <td>0.569653</td>\n",
       "      <td>0</td>\n",
       "    </tr>\n",
       "    <tr>\n",
       "      <th>1</th>\n",
       "      <td>Albania</td>\n",
       "      <td>7.699330</td>\n",
       "      <td>51.400002</td>\n",
       "      <td>1.024736</td>\n",
       "      <td>9</td>\n",
       "    </tr>\n",
       "    <tr>\n",
       "      <th>2</th>\n",
       "      <td>Algeria</td>\n",
       "      <td>4.848770</td>\n",
       "      <td>50.500000</td>\n",
       "      <td>2.306817</td>\n",
       "      <td>2</td>\n",
       "    </tr>\n",
       "    <tr>\n",
       "      <th>3</th>\n",
       "      <td>Andorra</td>\n",
       "      <td>5.362179</td>\n",
       "      <td>NaN</td>\n",
       "      <td>NaN</td>\n",
       "      <td>NaN</td>\n",
       "    </tr>\n",
       "    <tr>\n",
       "      <th>4</th>\n",
       "      <td>Angola</td>\n",
       "      <td>14.554677</td>\n",
       "      <td>75.699997</td>\n",
       "      <td>1.461329</td>\n",
       "      <td>-2</td>\n",
       "    </tr>\n",
       "  </tbody>\n",
       "</table>\n",
       "</div>"
      ],
      "text/plain": [
       "       country  suicideper100th  employrate  armedforcesrate  polityscore\n",
       "0  Afghanistan         6.684385   55.700001         0.569653            0\n",
       "1      Albania         7.699330   51.400002         1.024736            9\n",
       "2      Algeria         4.848770   50.500000         2.306817            2\n",
       "3      Andorra         5.362179         NaN              NaN          NaN\n",
       "4       Angola        14.554677   75.699997         1.461329           -2"
      ]
     },
     "execution_count": 83,
     "metadata": {},
     "output_type": "execute_result"
    }
   ],
   "source": [
    "# Subset columns\n",
    "\n",
    "keepCols = ['country','suicideper100th','employrate','armedforcesrate','polityscore']\n",
    "\n",
    "df2 = df[keepCols]\n",
    "\n",
    "df2.head()"
   ]
  },
  {
   "cell_type": "markdown",
   "metadata": {},
   "source": [
    "##### Handling Missing Data #####\n",
    "\n",
    "I dropped any countries that were missing a value for any of my variables. \n",
    "\n",
    "This left 152 countries to analyze."
   ]
  },
  {
   "cell_type": "code",
   "execution_count": 84,
   "metadata": {
    "collapsed": false
   },
   "outputs": [
    {
     "name": "stdout",
     "output_type": "stream",
     "text": [
      "152\n"
     ]
    }
   ],
   "source": [
    "# Drop countries with no values for any explanatory variables\n",
    "\n",
    "df2 = df2.dropna(subset=['suicideper100th','employrate','armedforcesrate','polityscore'],how='any')\n",
    "\n",
    "print(len(df2))"
   ]
  },
  {
   "cell_type": "markdown",
   "metadata": {},
   "source": [
    "### Univariate Analysis ###\n",
    "\n",
    "##### Suicide Rate #####\n",
    "\n",
    "Most countries fall between 5 and 12 suicides per 100,000 population. I considered as outliers any country above 25 or below 1.5 per 100,000.  This distribution is unimodal and moderately right-skewed.\n",
    "\n",
    "Four of the fivwe countries with the lowest reported rates are in the Middle East.\n",
    "\n",
    "Four of the seven countries with the highest rates are former Soviet republics (or in the case of Belarus, in the same region)."
   ]
  },
  {
   "cell_type": "code",
   "execution_count": 85,
   "metadata": {
    "collapsed": false
   },
   "outputs": [
    {
     "data": {
      "text/plain": [
       "<matplotlib.text.Text at 0xd296a20>"
      ]
     },
     "execution_count": 85,
     "metadata": {},
     "output_type": "execute_result"
    },
    {
     "data": {
      "image/png": "[encoded data removed]",
      "text/plain": [
       "<matplotlib.figure.Figure at 0xd28d6a0>"
      ]
     },
     "metadata": {},
     "output_type": "display_data"
    }
   ],
   "source": [
    "# Plot histogram to visualize distribution\n",
    "\n",
    "# Suicides per 100K population\n",
    "\n",
    "plt.figure(figsize=(10,5))\n",
    "ax = sns.distplot(df2['suicideper100th'],kde=False)\n",
    "plt.title('Suicide Rate Distribution',fontsize=16)\n",
    "plt.xlabel('Number of Suicides',fontsize=14)\n",
    "plt.ylabel('Number of Countries',fontsize=14)"
   ]
  },
  {
   "cell_type": "code",
   "execution_count": 86,
   "metadata": {
    "collapsed": false
   },
   "outputs": [
    {
     "data": {
      "text/html": [
       "<div>\n",
       "<table border=\"1\" class=\"dataframe\">\n",
       "  <thead>\n",
       "    <tr style=\"text-align: right;\">\n",
       "      <th></th>\n",
       "      <th>country</th>\n",
       "      <th>suicideper100th</th>\n",
       "    </tr>\n",
       "  </thead>\n",
       "  <tbody>\n",
       "    <tr>\n",
       "      <th>80</th>\n",
       "      <td>Guyana</td>\n",
       "      <td>35.752872</td>\n",
       "    </tr>\n",
       "    <tr>\n",
       "      <th>110</th>\n",
       "      <td>Lithuania</td>\n",
       "      <td>33.341860</td>\n",
       "    </tr>\n",
       "    <tr>\n",
       "      <th>180</th>\n",
       "      <td>Sri Lanka</td>\n",
       "      <td>28.104046</td>\n",
       "    </tr>\n",
       "    <tr>\n",
       "      <th>159</th>\n",
       "      <td>Russia</td>\n",
       "      <td>27.874160</td>\n",
       "    </tr>\n",
       "    <tr>\n",
       "      <th>16</th>\n",
       "      <td>Belarus</td>\n",
       "      <td>26.874690</td>\n",
       "    </tr>\n",
       "    <tr>\n",
       "      <th>103</th>\n",
       "      <td>Laos</td>\n",
       "      <td>26.219198</td>\n",
       "    </tr>\n",
       "    <tr>\n",
       "      <th>96</th>\n",
       "      <td>Kazakhstan</td>\n",
       "      <td>25.404600</td>\n",
       "    </tr>\n",
       "  </tbody>\n",
       "</table>\n",
       "</div>"
      ],
      "text/plain": [
       "        country  suicideper100th\n",
       "80       Guyana        35.752872\n",
       "110   Lithuania        33.341860\n",
       "180   Sri Lanka        28.104046\n",
       "159      Russia        27.874160\n",
       "16      Belarus        26.874690\n",
       "103        Laos        26.219198\n",
       "96   Kazakhstan        25.404600"
      ]
     },
     "execution_count": 86,
     "metadata": {},
     "output_type": "execute_result"
    }
   ],
   "source": [
    "# Identify Upper Extremes\n",
    "\n",
    "df2.loc[(df2['suicideper100th']>=25),('country','suicideper100th')].sort_values(by='suicideper100th',ascending=False)"
   ]
  },
  {
   "cell_type": "code",
   "execution_count": 87,
   "metadata": {
    "collapsed": false
   },
   "outputs": [
    {
     "data": {
      "text/html": [
       "<div>\n",
       "<table border=\"1\" class=\"dataframe\">\n",
       "  <thead>\n",
       "    <tr style=\"text-align: right;\">\n",
       "      <th></th>\n",
       "      <th>country</th>\n",
       "      <th>suicideper100th</th>\n",
       "    </tr>\n",
       "  </thead>\n",
       "  <tbody>\n",
       "    <tr>\n",
       "      <th>95</th>\n",
       "      <td>Jordan</td>\n",
       "      <td>0.201449</td>\n",
       "    </tr>\n",
       "    <tr>\n",
       "      <th>186</th>\n",
       "      <td>Syria</td>\n",
       "      <td>0.523528</td>\n",
       "    </tr>\n",
       "    <tr>\n",
       "      <th>11</th>\n",
       "      <td>Azerbaijan</td>\n",
       "      <td>1.380965</td>\n",
       "    </tr>\n",
       "    <tr>\n",
       "      <th>201</th>\n",
       "      <td>United Arab Emirates</td>\n",
       "      <td>1.392951</td>\n",
       "    </tr>\n",
       "    <tr>\n",
       "      <th>101</th>\n",
       "      <td>Kuwait</td>\n",
       "      <td>1.498057</td>\n",
       "    </tr>\n",
       "  </tbody>\n",
       "</table>\n",
       "</div>"
      ],
      "text/plain": [
       "                  country  suicideper100th\n",
       "95                 Jordan         0.201449\n",
       "186                 Syria         0.523528\n",
       "11             Azerbaijan         1.380965\n",
       "201  United Arab Emirates         1.392951\n",
       "101                Kuwait         1.498057"
      ]
     },
     "execution_count": 87,
     "metadata": {},
     "output_type": "execute_result"
    }
   ],
   "source": [
    "# Identify Lower Extremes\n",
    "\n",
    "df2.loc[(df2['suicideper100th']<=1.5),('country','suicideper100th')].sort_values(by='suicideper100th')"
   ]
  },
  {
   "cell_type": "markdown",
   "metadata": {},
   "source": [
    "##### Employment Rate  #####\n",
    "\n",
    "The distribution of employment rates centers around 60%, with a high in the 80s and a low in the 30s.  It's important to note that the age cutoff is 15, which means that full-time high school and university-level students count as a negative in this metric.  So many high-performing economies are actually in the middle.\n",
    "\n",
    "African countries are found at the high end of the range, while Middle Eastern countries are at the low end.\n",
    "\n",
    "Two countries remaining in the dataset did not have employment rates reported.\n"
   ]
  },
  {
   "cell_type": "code",
   "execution_count": 88,
   "metadata": {
    "collapsed": false,
    "scrolled": true
   },
   "outputs": [
    {
     "data": {
      "text/plain": [
       "<matplotlib.text.Text at 0xd4bc7b8>"
      ]
     },
     "execution_count": 88,
     "metadata": {},
     "output_type": "execute_result"
    },
    {
     "data": {
      "image/png": "[encoded data removed]",
      "text/plain": [
       "<matplotlib.figure.Figure at 0xd3339e8>"
      ]
     },
     "metadata": {},
     "output_type": "display_data"
    }
   ],
   "source": [
    "# Employment Rate Distribution\n",
    "\n",
    "plt.figure(figsize=(10,5))\n",
    "ax = sns.distplot(df2['employrate'],kde=False)\n",
    "plt.title('Employment Rate Distribution',fontsize=16)\n",
    "plt.xlabel('Employment Rate', fontsize=14)\n",
    "plt.ylabel('Number of Countries', fontsize=14)"
   ]
  },
  {
   "cell_type": "code",
   "execution_count": 89,
   "metadata": {
    "collapsed": false
   },
   "outputs": [
    {
     "data": {
      "text/html": [
       "<div>\n",
       "<table border=\"1\" class=\"dataframe\">\n",
       "  <thead>\n",
       "    <tr style=\"text-align: right;\">\n",
       "      <th></th>\n",
       "      <th>country</th>\n",
       "      <th>employrate</th>\n",
       "    </tr>\n",
       "  </thead>\n",
       "  <tbody>\n",
       "    <tr>\n",
       "      <th>29</th>\n",
       "      <td>Burundi</td>\n",
       "      <td>83.199997</td>\n",
       "    </tr>\n",
       "    <tr>\n",
       "      <th>199</th>\n",
       "      <td>Uganda</td>\n",
       "      <td>83.199997</td>\n",
       "    </tr>\n",
       "    <tr>\n",
       "      <th>114</th>\n",
       "      <td>Madagascar</td>\n",
       "      <td>83.000000</td>\n",
       "    </tr>\n",
       "    <tr>\n",
       "      <th>78</th>\n",
       "      <td>Guinea</td>\n",
       "      <td>81.500000</td>\n",
       "    </tr>\n",
       "    <tr>\n",
       "      <th>28</th>\n",
       "      <td>Burkina Faso</td>\n",
       "      <td>81.300003</td>\n",
       "    </tr>\n",
       "    <tr>\n",
       "      <th>60</th>\n",
       "      <td>Ethiopia</td>\n",
       "      <td>80.699997</td>\n",
       "    </tr>\n",
       "  </tbody>\n",
       "</table>\n",
       "</div>"
      ],
      "text/plain": [
       "          country  employrate\n",
       "29        Burundi   83.199997\n",
       "199        Uganda   83.199997\n",
       "114    Madagascar   83.000000\n",
       "78         Guinea   81.500000\n",
       "28   Burkina Faso   81.300003\n",
       "60       Ethiopia   80.699997"
      ]
     },
     "execution_count": 89,
     "metadata": {},
     "output_type": "execute_result"
    }
   ],
   "source": [
    "# Identify Upper Extremes\n",
    "\n",
    "df2.loc[(df2['employrate']>=80),('country','employrate')].sort_values(by='employrate',ascending=False)\n"
   ]
  },
  {
   "cell_type": "code",
   "execution_count": 90,
   "metadata": {
    "collapsed": false
   },
   "outputs": [
    {
     "data": {
      "text/html": [
       "<div>\n",
       "<table border=\"1\" class=\"dataframe\">\n",
       "  <thead>\n",
       "    <tr style=\"text-align: right;\">\n",
       "      <th></th>\n",
       "      <th>country</th>\n",
       "      <th>employrate</th>\n",
       "    </tr>\n",
       "  </thead>\n",
       "  <tbody>\n",
       "    <tr>\n",
       "      <th>113</th>\n",
       "      <td>Macedonia, FYR</td>\n",
       "      <td>34.900002</td>\n",
       "    </tr>\n",
       "    <tr>\n",
       "      <th>89</th>\n",
       "      <td>Iraq</td>\n",
       "      <td>37.400002</td>\n",
       "    </tr>\n",
       "    <tr>\n",
       "      <th>95</th>\n",
       "      <td>Jordan</td>\n",
       "      <td>38.900002</td>\n",
       "    </tr>\n",
       "    <tr>\n",
       "      <th>210</th>\n",
       "      <td>Yemen, Rep.</td>\n",
       "      <td>39.000000</td>\n",
       "    </tr>\n",
       "  </tbody>\n",
       "</table>\n",
       "</div>"
      ],
      "text/plain": [
       "            country  employrate\n",
       "113  Macedonia, FYR   34.900002\n",
       "89             Iraq   37.400002\n",
       "95           Jordan   38.900002\n",
       "210     Yemen, Rep.   39.000000"
      ]
     },
     "execution_count": 90,
     "metadata": {},
     "output_type": "execute_result"
    }
   ],
   "source": [
    "# Identify lower Extremes\n",
    "\n",
    "df2.loc[(df2['employrate']<=40),('country','employrate')].sort_values(by='employrate')\n"
   ]
  },
  {
   "cell_type": "markdown",
   "metadata": {},
   "source": [
    "#### Employment Rate ANOVA ####\n",
    "\n",
    "I broke the employment rate values into five quantiles, each representing approximately 20% of dataset, the and assigned them to a new column in the dataframe.\n",
    "\n",
    "The mean suicide rates by employment rate quantile ranged from 7.9 to 12.0.  However, with a p-value of 0.129, we must accept the null hypothesis which states that suicide rate is not associated with employment rate.  \n"
   ]
  },
  {
   "cell_type": "code",
   "execution_count": 91,
   "metadata": {
    "collapsed": false
   },
   "outputs": [],
   "source": [
    "# Reclassify Employment Rate Into Quantiles\n",
    "\n",
    "df2['employratequantiles'] = pd.qcut(df2['employrate'],labels=['Q1','Q2','Q3','Q4','Q5'],q=5)\n"
   ]
  },
  {
   "cell_type": "code",
   "execution_count": 92,
   "metadata": {
    "collapsed": false
   },
   "outputs": [
    {
     "data": {
      "text/html": [
       "<div>\n",
       "<table border=\"1\" class=\"dataframe\">\n",
       "  <thead>\n",
       "    <tr style=\"text-align: right;\">\n",
       "      <th></th>\n",
       "      <th>country</th>\n",
       "      <th>suicideper100th</th>\n",
       "      <th>employrate</th>\n",
       "      <th>armedforcesrate</th>\n",
       "      <th>polityscore</th>\n",
       "      <th>employratequantiles</th>\n",
       "    </tr>\n",
       "  </thead>\n",
       "  <tbody>\n",
       "    <tr>\n",
       "      <th>0</th>\n",
       "      <td>Afghanistan</td>\n",
       "      <td>6.684385</td>\n",
       "      <td>55.700001</td>\n",
       "      <td>0.569653</td>\n",
       "      <td>0</td>\n",
       "      <td>Q2</td>\n",
       "    </tr>\n",
       "    <tr>\n",
       "      <th>1</th>\n",
       "      <td>Albania</td>\n",
       "      <td>7.699330</td>\n",
       "      <td>51.400002</td>\n",
       "      <td>1.024736</td>\n",
       "      <td>9</td>\n",
       "      <td>Q2</td>\n",
       "    </tr>\n",
       "    <tr>\n",
       "      <th>2</th>\n",
       "      <td>Algeria</td>\n",
       "      <td>4.848770</td>\n",
       "      <td>50.500000</td>\n",
       "      <td>2.306817</td>\n",
       "      <td>2</td>\n",
       "      <td>Q1</td>\n",
       "    </tr>\n",
       "    <tr>\n",
       "      <th>4</th>\n",
       "      <td>Angola</td>\n",
       "      <td>14.554677</td>\n",
       "      <td>75.699997</td>\n",
       "      <td>1.461329</td>\n",
       "      <td>-2</td>\n",
       "      <td>Q5</td>\n",
       "    </tr>\n",
       "    <tr>\n",
       "      <th>6</th>\n",
       "      <td>Argentina</td>\n",
       "      <td>7.765584</td>\n",
       "      <td>58.400002</td>\n",
       "      <td>0.560987</td>\n",
       "      <td>8</td>\n",
       "      <td>Q3</td>\n",
       "    </tr>\n",
       "  </tbody>\n",
       "</table>\n",
       "</div>"
      ],
      "text/plain": [
       "       country  suicideper100th  employrate  armedforcesrate  polityscore  \\\n",
       "0  Afghanistan         6.684385   55.700001         0.569653            0   \n",
       "1      Albania         7.699330   51.400002         1.024736            9   \n",
       "2      Algeria         4.848770   50.500000         2.306817            2   \n",
       "4       Angola        14.554677   75.699997         1.461329           -2   \n",
       "6    Argentina         7.765584   58.400002         0.560987            8   \n",
       "\n",
       "  employratequantiles  \n",
       "0                  Q2  \n",
       "1                  Q2  \n",
       "2                  Q1  \n",
       "4                  Q5  \n",
       "6                  Q3  "
      ]
     },
     "execution_count": 92,
     "metadata": {},
     "output_type": "execute_result"
    }
   ],
   "source": [
    "df2.head()"
   ]
  },
  {
   "cell_type": "code",
   "execution_count": 93,
   "metadata": {
    "collapsed": false
   },
   "outputs": [
    {
     "name": "stderr",
     "output_type": "stream",
     "text": [
      "C:\\Users\\garymiller01\\Anaconda3\\lib\\site-packages\\matplotlib\\__init__.py:892: UserWarning: axes.color_cycle is deprecated and replaced with axes.prop_cycle; please use the latter.\n",
      "  warnings.warn(self.msg_depr % (key, alt_key))\n"
     ]
    },
    {
     "data": {
      "text/plain": [
       "<matplotlib.text.Text at 0xd373470>"
      ]
     },
     "execution_count": 93,
     "metadata": {},
     "output_type": "execute_result"
    },
    {
     "data": {
      "image/png": "[encoded data removed]",
      "text/plain": [
       "<matplotlib.figure.Figure at 0xd4a19b0>"
      ]
     },
     "metadata": {},
     "output_type": "display_data"
    }
   ],
   "source": [
    "# Visualize Employment Rate Quantile Distribution\n",
    "\n",
    "plt.figure(figsize=(10,5))\n",
    "ax = sns.countplot(x='employratequantiles',data=df2)\n",
    "plt.title('Count of Countries by Employment Rate Quantile',fontsize=16)\n",
    "plt.xlabel('Employment Rate', fontsize=14)\n",
    "plt.ylabel('Number of Countries', fontsize=14)\n"
   ]
  },
  {
   "cell_type": "code",
   "execution_count": 94,
   "metadata": {
    "collapsed": false
   },
   "outputs": [
    {
     "data": {
      "text/plain": [
       "employratequantiles\n",
       "Q1     7.931655\n",
       "Q2    12.017755\n",
       "Q3    10.690461\n",
       "Q4     9.197720\n",
       "Q5     9.880443\n",
       "Name: suicideper100th, dtype: float64"
      ]
     },
     "execution_count": 94,
     "metadata": {},
     "output_type": "execute_result"
    }
   ],
   "source": [
    "# View Mean Suicide Rates by Employment Rate Quantile\n",
    "\n",
    "df2['suicideper100th'].groupby(df2['employratequantiles']).mean()"
   ]
  },
  {
   "cell_type": "code",
   "execution_count": 95,
   "metadata": {
    "collapsed": false
   },
   "outputs": [
    {
     "name": "stdout",
     "output_type": "stream",
     "text": [
      "                            OLS Regression Results                            \n",
      "==============================================================================\n",
      "Dep. Variable:        suicideper100th   R-squared:                       0.047\n",
      "Model:                            OLS   Adj. R-squared:                  0.021\n",
      "Method:                 Least Squares   F-statistic:                     1.814\n",
      "Date:                Sun, 08 May 2016   Prob (F-statistic):              0.129\n",
      "Time:                        19:41:18   Log-Likelihood:                -492.92\n",
      "No. Observations:                 152   AIC:                             995.8\n",
      "Df Residuals:                     147   BIC:                             1011.\n",
      "Df Model:                           4                                         \n",
      "Covariance Type:            nonrobust                                         \n",
      "=============================================================================================\n",
      "                                coef    std err          t      P>|t|      [95.0% Conf. Int.]\n",
      "---------------------------------------------------------------------------------------------\n",
      "Intercept                     7.9317      1.132      7.009      0.000         5.695    10.168\n",
      "employratequantiles[T.Q2]     4.0861      1.614      2.532      0.012         0.897     7.275\n",
      "employratequantiles[T.Q3]     2.7588      1.614      1.710      0.089        -0.430     5.948\n",
      "employratequantiles[T.Q4]     1.2661      1.614      0.785      0.434        -1.923     4.455\n",
      "employratequantiles[T.Q5]     1.9488      1.600      1.218      0.225        -1.214     5.112\n",
      "==============================================================================\n",
      "Omnibus:                       37.920   Durbin-Watson:                   2.071\n",
      "Prob(Omnibus):                  0.000   Jarque-Bera (JB):               65.136\n",
      "Skew:                           1.205   Prob(JB):                     7.18e-15\n",
      "Kurtosis:                       5.116   Cond. No.                         5.78\n",
      "==============================================================================\n",
      "\n",
      "Warnings:\n",
      "[1] Standard Errors assume that the covariance matrix of the errors is correctly specified.\n"
     ]
    }
   ],
   "source": [
    "#  ANOVA\n",
    "\n",
    "modelemp = smf.ols(formula='suicideper100th ~ employratequantiles',data=df2)\n",
    "resultsemp = modelemp.fit()\n",
    "print(resultsemp.summary())\n"
   ]
  },
  {
   "cell_type": "markdown",
   "metadata": {},
   "source": [
    "##### Armed Forces Rate #####\n",
    "\n",
    "The vast majority of countries had armed forces rates of less than 1% of population.  This distribution is heavily right-skewed.\n",
    "\n",
    "Outliers on the high side (above 6%) are North Korea, Eritrea, Iraq, and Singapore. \n",
    "\n",
    "On the low end are Haiti (which disbanded its military in 1995) and a number of African countries..\n",
    "\n",
    "To better understand the cluster under 1%, I reclassified the values into different bins.  Those values are fairly evenly broken up by tenths of a percent.  That range of the distribution is actually rather uniform."
   ]
  },
  {
   "cell_type": "code",
   "execution_count": 96,
   "metadata": {
    "collapsed": false
   },
   "outputs": [
    {
     "data": {
      "text/plain": [
       "count    152.000000\n",
       "mean       1.426534\n",
       "std        1.697106\n",
       "min        0.000000\n",
       "25%        0.467746\n",
       "50%        0.931293\n",
       "75%        1.611383\n",
       "max       10.638521\n",
       "Name: armedforcesrate, dtype: float64"
      ]
     },
     "execution_count": 96,
     "metadata": {},
     "output_type": "execute_result"
    }
   ],
   "source": [
    "df2['armedforcesrate'].describe()"
   ]
  },
  {
   "cell_type": "code",
   "execution_count": 97,
   "metadata": {
    "collapsed": false
   },
   "outputs": [
    {
     "data": {
      "text/plain": [
       "<matplotlib.text.Text at 0xd41de48>"
      ]
     },
     "execution_count": 97,
     "metadata": {},
     "output_type": "execute_result"
    },
    {
     "data": {
      "image/png": "[encoded data removed]",
      "text/plain": [
       "<matplotlib.figure.Figure at 0xd408a58>"
      ]
     },
     "metadata": {},
     "output_type": "display_data"
    }
   ],
   "source": [
    "# Visualize distribution with histogram\n",
    "\n",
    "plt.figure(figsize=(10,5))\n",
    "ax = sns.distplot(df2['armedforcesrate'],kde=False,bins=12)\n",
    "plt.title('Armed Forces Rate Distribution',fontsize=16)\n",
    "plt.xlabel('Armed Forces Rate', fontsize=14)\n",
    "plt.ylabel('Number of Countries', fontsize=14)"
   ]
  },
  {
   "cell_type": "code",
   "execution_count": 98,
   "metadata": {
    "collapsed": false
   },
   "outputs": [
    {
     "data": {
      "text/html": [
       "<div>\n",
       "<table border=\"1\" class=\"dataframe\">\n",
       "  <thead>\n",
       "    <tr style=\"text-align: right;\">\n",
       "      <th></th>\n",
       "      <th>country</th>\n",
       "      <th>armedforcesrate</th>\n",
       "    </tr>\n",
       "  </thead>\n",
       "  <tbody>\n",
       "    <tr>\n",
       "      <th>99</th>\n",
       "      <td>Korea, Dem. Rep.</td>\n",
       "      <td>10.638521</td>\n",
       "    </tr>\n",
       "    <tr>\n",
       "      <th>58</th>\n",
       "      <td>Eritrea</td>\n",
       "      <td>9.820127</td>\n",
       "    </tr>\n",
       "    <tr>\n",
       "      <th>89</th>\n",
       "      <td>Iraq</td>\n",
       "      <td>7.737913</td>\n",
       "    </tr>\n",
       "    <tr>\n",
       "      <th>173</th>\n",
       "      <td>Singapore</td>\n",
       "      <td>6.394936</td>\n",
       "    </tr>\n",
       "  </tbody>\n",
       "</table>\n",
       "</div>"
      ],
      "text/plain": [
       "              country  armedforcesrate\n",
       "99   Korea, Dem. Rep.        10.638521\n",
       "58            Eritrea         9.820127\n",
       "89               Iraq         7.737913\n",
       "173         Singapore         6.394936"
      ]
     },
     "execution_count": 98,
     "metadata": {},
     "output_type": "execute_result"
    }
   ],
   "source": [
    "# Identify higher outliers\n",
    "\n",
    "df2.loc[(df2['armedforcesrate']>=6.0),('country','armedforcesrate')].sort_values(by='armedforcesrate',ascending=False)"
   ]
  },
  {
   "cell_type": "code",
   "execution_count": 99,
   "metadata": {
    "collapsed": false
   },
   "outputs": [
    {
     "data": {
      "text/html": [
       "<div>\n",
       "<table border=\"1\" class=\"dataframe\">\n",
       "  <thead>\n",
       "    <tr style=\"text-align: right;\">\n",
       "      <th></th>\n",
       "      <th>country</th>\n",
       "      <th>armedforcesrate</th>\n",
       "    </tr>\n",
       "  </thead>\n",
       "  <tbody>\n",
       "    <tr>\n",
       "      <th>81</th>\n",
       "      <td>Haiti</td>\n",
       "      <td>0.000000</td>\n",
       "    </tr>\n",
       "    <tr>\n",
       "      <th>131</th>\n",
       "      <td>Mozambique</td>\n",
       "      <td>0.102269</td>\n",
       "    </tr>\n",
       "    <tr>\n",
       "      <th>149</th>\n",
       "      <td>Papua New Guinea</td>\n",
       "      <td>0.105115</td>\n",
       "    </tr>\n",
       "    <tr>\n",
       "      <th>115</th>\n",
       "      <td>Malawi</td>\n",
       "      <td>0.114592</td>\n",
       "    </tr>\n",
       "    <tr>\n",
       "      <th>107</th>\n",
       "      <td>Liberia</td>\n",
       "      <td>0.129953</td>\n",
       "    </tr>\n",
       "    <tr>\n",
       "      <th>70</th>\n",
       "      <td>Ghana</td>\n",
       "      <td>0.131487</td>\n",
       "    </tr>\n",
       "    <tr>\n",
       "      <th>67</th>\n",
       "      <td>Gambia</td>\n",
       "      <td>0.134591</td>\n",
       "    </tr>\n",
       "    <tr>\n",
       "      <th>189</th>\n",
       "      <td>Tanzania</td>\n",
       "      <td>0.134730</td>\n",
       "    </tr>\n",
       "    <tr>\n",
       "      <th>35</th>\n",
       "      <td>Central African Rep.</td>\n",
       "      <td>0.148659</td>\n",
       "    </tr>\n",
       "  </tbody>\n",
       "</table>\n",
       "</div>"
      ],
      "text/plain": [
       "                  country  armedforcesrate\n",
       "81                  Haiti         0.000000\n",
       "131            Mozambique         0.102269\n",
       "149      Papua New Guinea         0.105115\n",
       "115                Malawi         0.114592\n",
       "107               Liberia         0.129953\n",
       "70                  Ghana         0.131487\n",
       "67                 Gambia         0.134591\n",
       "189              Tanzania         0.134730\n",
       "35   Central African Rep.         0.148659"
      ]
     },
     "execution_count": 99,
     "metadata": {},
     "output_type": "execute_result"
    }
   ],
   "source": [
    "# Identify lower outliers\n",
    "\n",
    "df2.loc[(df2['armedforcesrate']<=0.15),('country','armedforcesrate')].sort_values(by='armedforcesrate')"
   ]
  },
  {
   "cell_type": "markdown",
   "metadata": {},
   "source": [
    "#### Armed Forced Rate ANOVA ####\n",
    "\n",
    "I reclassified the continuous armed forces rate values into bins, which could be used as categories for ANOVA.\n",
    "\n",
    "The mean suicide rates bins range from 3.4 to 17.0.\n",
    "\n",
    "ANOVA yields a p-value of .299, far greater than .05. So there is not enough evidence to reject the null hypothesis which states that armed forces rate and suicide rate are not correlated."
   ]
  },
  {
   "cell_type": "code",
   "execution_count": 158,
   "metadata": {
    "collapsed": false
   },
   "outputs": [],
   "source": [
    "bins=[0,1,2,3,4,5,6,7,8,9,10,11]\n",
    "\n",
    "df2['armedforcesratebins'] = pd.cut(df2['armedforcesrate'],bins)"
   ]
  },
  {
   "cell_type": "code",
   "execution_count": 159,
   "metadata": {
    "collapsed": false
   },
   "outputs": [
    {
     "data": {
      "text/plain": [
       "(0, 1]      81\n",
       "(1, 2]      41\n",
       "(2, 3]      14\n",
       "(3, 4]       4\n",
       "(4, 5]       2\n",
       "(5, 6]       5\n",
       "(6, 7]       1\n",
       "(7, 8]       1\n",
       "(8, 9]       0\n",
       "(9, 10]      1\n",
       "(10, 11]     1\n",
       "dtype: int64"
      ]
     },
     "execution_count": 159,
     "metadata": {},
     "output_type": "execute_result"
    }
   ],
   "source": [
    "# New Frequency Table - by count\n",
    "\n",
    "df2['armedforcesratebins'].value_counts().sort_index()"
   ]
  },
  {
   "cell_type": "code",
   "execution_count": 160,
   "metadata": {
    "collapsed": false
   },
   "outputs": [
    {
     "data": {
      "text/plain": [
       "(0, 1]      0.532895\n",
       "(1, 2]      0.269737\n",
       "(2, 3]      0.092105\n",
       "(3, 4]      0.026316\n",
       "(4, 5]      0.013158\n",
       "(5, 6]      0.032895\n",
       "(6, 7]      0.006579\n",
       "(7, 8]      0.006579\n",
       "(8, 9]      0.000000\n",
       "(9, 10]     0.006579\n",
       "(10, 11]    0.006579\n",
       "dtype: float64"
      ]
     },
     "execution_count": 160,
     "metadata": {},
     "output_type": "execute_result"
    }
   ],
   "source": [
    "# New Frequency Table - by percentage\n",
    "\n",
    "df2['armedforcesratebins'].value_counts(normalize=True).sort_index()"
   ]
  },
  {
   "cell_type": "code",
   "execution_count": 161,
   "metadata": {
    "collapsed": false
   },
   "outputs": [
    {
     "data": {
      "text/plain": [
       "<matplotlib.text.Text at 0xff68ef0>"
      ]
     },
     "execution_count": 161,
     "metadata": {},
     "output_type": "execute_result"
    },
    {
     "data": {
      "image/png": "[encoded data removed]",
      "text/plain": [
       "<matplotlib.figure.Figure at 0xff5bd30>"
      ]
     },
     "metadata": {},
     "output_type": "display_data"
    }
   ],
   "source": [
    "# New plot\n",
    "\n",
    "plt.figure(figsize=(12,6))\n",
    "ax = sns.countplot(x='armedforcesratebins',data=df2,palette='Blues')\n",
    "plt.title('Reclassified Armed Forces Rate Distribution',fontsize=16)\n",
    "plt.xlabel('Armed Forces Rate',fontsize=14)\n",
    "plt.ylabel('Number of Countries',fontsize=14)"
   ]
  },
  {
   "cell_type": "code",
   "execution_count": 162,
   "metadata": {
    "collapsed": false
   },
   "outputs": [
    {
     "data": {
      "text/plain": [
       "armedforcesratebins\n",
       "(0, 1]      10.558417\n",
       "(1, 2]      10.174615\n",
       "(2, 3]       8.044948\n",
       "(3, 4]       9.039581\n",
       "(4, 5]      14.967969\n",
       "(5, 6]       3.382025\n",
       "(6, 7]       9.127511\n",
       "(7, 8]      17.032646\n",
       "(8, 9]            NaN\n",
       "(9, 10]      8.913363\n",
       "(10, 11]     4.735673\n",
       "Name: suicideper100th, dtype: float64"
      ]
     },
     "execution_count": 162,
     "metadata": {},
     "output_type": "execute_result"
    }
   ],
   "source": [
    "# View Suicide Rate Means by Armed Forces Rate Bin\n",
    "\n",
    "df2['suicideper100th'].groupby(df2['armedforcesratebins']).mean()"
   ]
  },
  {
   "cell_type": "code",
   "execution_count": 163,
   "metadata": {
    "collapsed": false
   },
   "outputs": [
    {
     "name": "stdout",
     "output_type": "stream",
     "text": [
      "                            OLS Regression Results                            \n",
      "==============================================================================\n",
      "Dep. Variable:        suicideper100th   R-squared:                       0.071\n",
      "Model:                            OLS   Adj. R-squared:                  0.012\n",
      "Method:                 Least Squares   F-statistic:                     1.201\n",
      "Date:                Sun, 08 May 2016   Prob (F-statistic):              0.299\n",
      "Time:                        21:04:36   Log-Likelihood:                -487.35\n",
      "No. Observations:                 151   AIC:                             994.7\n",
      "Df Residuals:                     141   BIC:                             1025.\n",
      "Df Model:                           9                                         \n",
      "Covariance Type:            nonrobust                                         \n",
      "======================================================================================================\n",
      "                                         coef    std err          t      P>|t|      [95.0% Conf. Int.]\n",
      "------------------------------------------------------------------------------------------------------\n",
      "Intercept                             10.5584      0.702     15.049      0.000         9.171    11.945\n",
      "C(armedforcesratebins)[T.(1, 2]]      -0.3838      1.210     -0.317      0.752        -2.776     2.009\n",
      "C(armedforcesratebins)[T.(2, 3]]      -2.5135      1.828     -1.375      0.171        -6.127     1.100\n",
      "C(armedforcesratebins)[T.(3, 4]]      -1.5188      3.234     -0.470      0.639        -7.913     4.875\n",
      "C(armedforcesratebins)[T.(4, 5]]       4.4096      4.520      0.976      0.331        -4.526    13.345\n",
      "C(armedforcesratebins)[T.(5, 6]]      -7.1764      2.910     -2.466      0.015       -12.929    -1.424\n",
      "C(armedforcesratebins)[T.(6, 7]]      -1.4309      6.353     -0.225      0.822       -13.991    11.129\n",
      "C(armedforcesratebins)[T.(7, 8]]       6.4742      6.353      1.019      0.310        -6.086    19.034\n",
      "C(armedforcesratebins)[T.(8, 9]]    9.419e-17   3.51e-16      0.269      0.789     -5.99e-16  7.87e-16\n",
      "C(armedforcesratebins)[T.(9, 10]]     -1.6451      6.353     -0.259      0.796       -14.205    10.915\n",
      "C(armedforcesratebins)[T.(10, 11]]    -5.8227      6.353     -0.916      0.361       -18.383     6.737\n",
      "==============================================================================\n",
      "Omnibus:                       52.203   Durbin-Watson:                   2.092\n",
      "Prob(Omnibus):                  0.000   Jarque-Bera (JB):              121.817\n",
      "Skew:                           1.473   Prob(JB):                     3.53e-27\n",
      "Kurtosis:                       6.269   Cond. No.                     5.31e+17\n",
      "==============================================================================\n",
      "\n",
      "Warnings:\n",
      "[1] Standard Errors assume that the covariance matrix of the errors is correctly specified.\n",
      "[2] The smallest eigenvalue is 5.89e-34. This might indicate that there are\n",
      "strong multicollinearity problems or that the design matrix is singular.\n"
     ]
    }
   ],
   "source": [
    "# ANOVA\n",
    "\n",
    "modelarmed = smf.ols(formula='suicideper100th ~ C(armedforcesratebins)',data=df2)\n",
    "resultsarmed = modelarmed.fit()\n",
    "print(resultsarmed.summary())\n"
   ]
  },
  {
   "cell_type": "markdown",
   "metadata": {},
   "source": [
    "#### Polity Scores ####\n",
    "\n",
    "GapMinder classified each country's political freedom on a scale of -10 (autocracy) to +10 (democracy).  For more details, see the <a href=\"http://www.systemicpeace.org/polityproject.html\" target=\"_blank\">Polity IV Project</a> website.\n",
    "\n",
    "Thirty-two countries were given the highest possible score, including much of Europe and North America, while 46 countries received negative scores.  This distribution is heavily left-skewed.\n",
    "\n",
    "Countries with low scores are not limited to a particular geographic region. "
   ]
  },
  {
   "cell_type": "code",
   "execution_count": 106,
   "metadata": {
    "collapsed": false
   },
   "outputs": [
    {
     "data": {
      "text/plain": [
       "<matplotlib.text.Text at 0xd530d30>"
      ]
     },
     "execution_count": 106,
     "metadata": {},
     "output_type": "execute_result"
    },
    {
     "data": {
      "image/png": "[encoded data removed]",
      "text/plain": [
       "<matplotlib.figure.Figure at 0xd51ecc0>"
      ]
     },
     "metadata": {},
     "output_type": "display_data"
    }
   ],
   "source": [
    "# Polity Score distribution\n",
    "\n",
    "plt.figure(figsize=(10,5))\n",
    "ax = sns.distplot(df2['polityscore'],bins=21,kde=False)\n",
    "plt.title('Polity Score Distribution',fontsize=16)\n",
    "plt.xlabel('Polity Score',fontsize=14)\n",
    "plt.ylabel('Number of Countries',fontsize=14)"
   ]
  },
  {
   "cell_type": "code",
   "execution_count": 107,
   "metadata": {
    "collapsed": false
   },
   "outputs": [
    {
     "data": {
      "text/plain": [
       " 10    32\n",
       " 9     13\n",
       " 8     17\n",
       " 7     13\n",
       " 6     10\n",
       " 5      7\n",
       " 4      4\n",
       " 3      1\n",
       " 2      2\n",
       " 1      3\n",
       " 0      5\n",
       "-1      4\n",
       "-2      5\n",
       "-3      6\n",
       "-4      6\n",
       "-5      2\n",
       "-6      3\n",
       "-7     12\n",
       "-8      2\n",
       "-9      3\n",
       "-10     2\n",
       "Name: polityscore, dtype: int64"
      ]
     },
     "execution_count": 107,
     "metadata": {},
     "output_type": "execute_result"
    }
   ],
   "source": [
    "# Frequency Table for Polity Scores\n",
    "\n",
    "df2['polityscore'].value_counts(dropna=False).sort_index(ascending=False)"
   ]
  },
  {
   "cell_type": "code",
   "execution_count": 108,
   "metadata": {
    "collapsed": false
   },
   "outputs": [
    {
     "data": {
      "text/plain": [
       "country    45\n",
       "dtype: int64"
      ]
     },
     "execution_count": 108,
     "metadata": {},
     "output_type": "execute_result"
    }
   ],
   "source": [
    "# Count scores less than zero\n",
    "\n",
    "df2.loc[df2['polityscore']<0,['country']].count()"
   ]
  },
  {
   "cell_type": "code",
   "execution_count": 109,
   "metadata": {
    "collapsed": false
   },
   "outputs": [
    {
     "data": {
      "text/html": [
       "<div>\n",
       "<table border=\"1\" class=\"dataframe\">\n",
       "  <thead>\n",
       "    <tr style=\"text-align: right;\">\n",
       "      <th></th>\n",
       "      <th>country</th>\n",
       "      <th>polityscore</th>\n",
       "    </tr>\n",
       "  </thead>\n",
       "  <tbody>\n",
       "    <tr>\n",
       "      <th>9</th>\n",
       "      <td>Australia</td>\n",
       "      <td>10</td>\n",
       "    </tr>\n",
       "    <tr>\n",
       "      <th>10</th>\n",
       "      <td>Austria</td>\n",
       "      <td>10</td>\n",
       "    </tr>\n",
       "    <tr>\n",
       "      <th>32</th>\n",
       "      <td>Canada</td>\n",
       "      <td>10</td>\n",
       "    </tr>\n",
       "    <tr>\n",
       "      <th>37</th>\n",
       "      <td>Chile</td>\n",
       "      <td>10</td>\n",
       "    </tr>\n",
       "    <tr>\n",
       "      <th>44</th>\n",
       "      <td>Costa Rica</td>\n",
       "      <td>10</td>\n",
       "    </tr>\n",
       "    <tr>\n",
       "      <th>48</th>\n",
       "      <td>Cyprus</td>\n",
       "      <td>10</td>\n",
       "    </tr>\n",
       "    <tr>\n",
       "      <th>50</th>\n",
       "      <td>Denmark</td>\n",
       "      <td>10</td>\n",
       "    </tr>\n",
       "    <tr>\n",
       "      <th>63</th>\n",
       "      <td>Finland</td>\n",
       "      <td>10</td>\n",
       "    </tr>\n",
       "    <tr>\n",
       "      <th>69</th>\n",
       "      <td>Germany</td>\n",
       "      <td>10</td>\n",
       "    </tr>\n",
       "    <tr>\n",
       "      <th>72</th>\n",
       "      <td>Greece</td>\n",
       "      <td>10</td>\n",
       "    </tr>\n",
       "    <tr>\n",
       "      <th>84</th>\n",
       "      <td>Hungary</td>\n",
       "      <td>10</td>\n",
       "    </tr>\n",
       "    <tr>\n",
       "      <th>90</th>\n",
       "      <td>Ireland</td>\n",
       "      <td>10</td>\n",
       "    </tr>\n",
       "    <tr>\n",
       "      <th>91</th>\n",
       "      <td>Israel</td>\n",
       "      <td>10</td>\n",
       "    </tr>\n",
       "    <tr>\n",
       "      <th>92</th>\n",
       "      <td>Italy</td>\n",
       "      <td>10</td>\n",
       "    </tr>\n",
       "    <tr>\n",
       "      <th>94</th>\n",
       "      <td>Japan</td>\n",
       "      <td>10</td>\n",
       "    </tr>\n",
       "    <tr>\n",
       "      <th>110</th>\n",
       "      <td>Lithuania</td>\n",
       "      <td>10</td>\n",
       "    </tr>\n",
       "    <tr>\n",
       "      <th>123</th>\n",
       "      <td>Mauritius</td>\n",
       "      <td>10</td>\n",
       "    </tr>\n",
       "    <tr>\n",
       "      <th>128</th>\n",
       "      <td>Mongolia</td>\n",
       "      <td>10</td>\n",
       "    </tr>\n",
       "    <tr>\n",
       "      <th>136</th>\n",
       "      <td>Netherlands</td>\n",
       "      <td>10</td>\n",
       "    </tr>\n",
       "    <tr>\n",
       "      <th>139</th>\n",
       "      <td>New Zealand</td>\n",
       "      <td>10</td>\n",
       "    </tr>\n",
       "    <tr>\n",
       "      <th>144</th>\n",
       "      <td>Norway</td>\n",
       "      <td>10</td>\n",
       "    </tr>\n",
       "    <tr>\n",
       "      <th>153</th>\n",
       "      <td>Poland</td>\n",
       "      <td>10</td>\n",
       "    </tr>\n",
       "    <tr>\n",
       "      <th>154</th>\n",
       "      <td>Portugal</td>\n",
       "      <td>10</td>\n",
       "    </tr>\n",
       "    <tr>\n",
       "      <th>174</th>\n",
       "      <td>Slovak Republic</td>\n",
       "      <td>10</td>\n",
       "    </tr>\n",
       "    <tr>\n",
       "      <th>175</th>\n",
       "      <td>Slovenia</td>\n",
       "      <td>10</td>\n",
       "    </tr>\n",
       "    <tr>\n",
       "      <th>179</th>\n",
       "      <td>Spain</td>\n",
       "      <td>10</td>\n",
       "    </tr>\n",
       "    <tr>\n",
       "      <th>184</th>\n",
       "      <td>Sweden</td>\n",
       "      <td>10</td>\n",
       "    </tr>\n",
       "    <tr>\n",
       "      <th>185</th>\n",
       "      <td>Switzerland</td>\n",
       "      <td>10</td>\n",
       "    </tr>\n",
       "    <tr>\n",
       "      <th>194</th>\n",
       "      <td>Trinidad and Tobago</td>\n",
       "      <td>10</td>\n",
       "    </tr>\n",
       "    <tr>\n",
       "      <th>202</th>\n",
       "      <td>United Kingdom</td>\n",
       "      <td>10</td>\n",
       "    </tr>\n",
       "    <tr>\n",
       "      <th>203</th>\n",
       "      <td>United States</td>\n",
       "      <td>10</td>\n",
       "    </tr>\n",
       "    <tr>\n",
       "      <th>204</th>\n",
       "      <td>Uruguay</td>\n",
       "      <td>10</td>\n",
       "    </tr>\n",
       "  </tbody>\n",
       "</table>\n",
       "</div>"
      ],
      "text/plain": [
       "                 country  polityscore\n",
       "9              Australia           10\n",
       "10               Austria           10\n",
       "32                Canada           10\n",
       "37                 Chile           10\n",
       "44            Costa Rica           10\n",
       "48                Cyprus           10\n",
       "50               Denmark           10\n",
       "63               Finland           10\n",
       "69               Germany           10\n",
       "72                Greece           10\n",
       "84               Hungary           10\n",
       "90               Ireland           10\n",
       "91                Israel           10\n",
       "92                 Italy           10\n",
       "94                 Japan           10\n",
       "110            Lithuania           10\n",
       "123            Mauritius           10\n",
       "128             Mongolia           10\n",
       "136          Netherlands           10\n",
       "139          New Zealand           10\n",
       "144               Norway           10\n",
       "153               Poland           10\n",
       "154             Portugal           10\n",
       "174      Slovak Republic           10\n",
       "175             Slovenia           10\n",
       "179                Spain           10\n",
       "184               Sweden           10\n",
       "185          Switzerland           10\n",
       "194  Trinidad and Tobago           10\n",
       "202       United Kingdom           10\n",
       "203        United States           10\n",
       "204              Uruguay           10"
      ]
     },
     "execution_count": 109,
     "metadata": {},
     "output_type": "execute_result"
    }
   ],
   "source": [
    "# Highest-ranking countries\n",
    "\n",
    "df2.loc[(df2['polityscore']>=9.1),('country','polityscore')].sort_values(by='country',ascending=True)"
   ]
  },
  {
   "cell_type": "code",
   "execution_count": 110,
   "metadata": {
    "collapsed": false
   },
   "outputs": [
    {
     "data": {
      "text/html": [
       "<div>\n",
       "<table border=\"1\" class=\"dataframe\">\n",
       "  <thead>\n",
       "    <tr style=\"text-align: right;\">\n",
       "      <th></th>\n",
       "      <th>country</th>\n",
       "      <th>polityscore</th>\n",
       "    </tr>\n",
       "  </thead>\n",
       "  <tbody>\n",
       "    <tr>\n",
       "      <th>156</th>\n",
       "      <td>Qatar</td>\n",
       "      <td>-10</td>\n",
       "    </tr>\n",
       "    <tr>\n",
       "      <th>167</th>\n",
       "      <td>Saudi Arabia</td>\n",
       "      <td>-10</td>\n",
       "    </tr>\n",
       "    <tr>\n",
       "      <th>99</th>\n",
       "      <td>Korea, Dem. Rep.</td>\n",
       "      <td>-9</td>\n",
       "    </tr>\n",
       "    <tr>\n",
       "      <th>197</th>\n",
       "      <td>Turkmenistan</td>\n",
       "      <td>-9</td>\n",
       "    </tr>\n",
       "    <tr>\n",
       "      <th>205</th>\n",
       "      <td>Uzbekistan</td>\n",
       "      <td>-9</td>\n",
       "    </tr>\n",
       "    <tr>\n",
       "      <th>145</th>\n",
       "      <td>Oman</td>\n",
       "      <td>-8</td>\n",
       "    </tr>\n",
       "    <tr>\n",
       "      <th>201</th>\n",
       "      <td>United Arab Emirates</td>\n",
       "      <td>-8</td>\n",
       "    </tr>\n",
       "    <tr>\n",
       "      <th>11</th>\n",
       "      <td>Azerbaijan</td>\n",
       "      <td>-7</td>\n",
       "    </tr>\n",
       "    <tr>\n",
       "      <th>13</th>\n",
       "      <td>Bahrain</td>\n",
       "      <td>-7</td>\n",
       "    </tr>\n",
       "    <tr>\n",
       "      <th>16</th>\n",
       "      <td>Belarus</td>\n",
       "      <td>-7</td>\n",
       "    </tr>\n",
       "    <tr>\n",
       "      <th>38</th>\n",
       "      <td>China</td>\n",
       "      <td>-7</td>\n",
       "    </tr>\n",
       "    <tr>\n",
       "      <th>47</th>\n",
       "      <td>Cuba</td>\n",
       "      <td>-7</td>\n",
       "    </tr>\n",
       "    <tr>\n",
       "      <th>58</th>\n",
       "      <td>Eritrea</td>\n",
       "      <td>-7</td>\n",
       "    </tr>\n",
       "    <tr>\n",
       "      <th>88</th>\n",
       "      <td>Iran</td>\n",
       "      <td>-7</td>\n",
       "    </tr>\n",
       "    <tr>\n",
       "      <th>101</th>\n",
       "      <td>Kuwait</td>\n",
       "      <td>-7</td>\n",
       "    </tr>\n",
       "    <tr>\n",
       "      <th>103</th>\n",
       "      <td>Laos</td>\n",
       "      <td>-7</td>\n",
       "    </tr>\n",
       "    <tr>\n",
       "      <th>108</th>\n",
       "      <td>Libya</td>\n",
       "      <td>-7</td>\n",
       "    </tr>\n",
       "    <tr>\n",
       "      <th>186</th>\n",
       "      <td>Syria</td>\n",
       "      <td>-7</td>\n",
       "    </tr>\n",
       "    <tr>\n",
       "      <th>208</th>\n",
       "      <td>Vietnam</td>\n",
       "      <td>-7</td>\n",
       "    </tr>\n",
       "  </tbody>\n",
       "</table>\n",
       "</div>"
      ],
      "text/plain": [
       "                  country  polityscore\n",
       "156                 Qatar          -10\n",
       "167          Saudi Arabia          -10\n",
       "99       Korea, Dem. Rep.           -9\n",
       "197          Turkmenistan           -9\n",
       "205            Uzbekistan           -9\n",
       "145                  Oman           -8\n",
       "201  United Arab Emirates           -8\n",
       "11             Azerbaijan           -7\n",
       "13                Bahrain           -7\n",
       "16                Belarus           -7\n",
       "38                  China           -7\n",
       "47                   Cuba           -7\n",
       "58                Eritrea           -7\n",
       "88                   Iran           -7\n",
       "101                Kuwait           -7\n",
       "103                  Laos           -7\n",
       "108                 Libya           -7\n",
       "186                 Syria           -7\n",
       "208               Vietnam           -7"
      ]
     },
     "execution_count": 110,
     "metadata": {},
     "output_type": "execute_result"
    }
   ],
   "source": [
    "# Identify lower outliers\n",
    "\n",
    "df2.loc[(df2['polityscore']<=-7),('country','polityscore')].sort_values(by=['polityscore','country'],ascending=True)"
   ]
  },
  {
   "cell_type": "markdown",
   "metadata": {},
   "source": [
    "#### Polity Score ANOVA ####\n",
    "\n",
    "The discrete polity score values inherently work as categories for ANOVA, so there was no need to reclassify them.\n",
    "\n",
    "The mean suicide rates for each of the polity scores ranged from about 4.5 to 14.3 per 100,000 population.\n",
    "\n",
    "With a p-value of .0457, which is less than .05, ANOVA tells us that we can say with 95% certainty that the difference between means can be attributed to the Polity Score and not to random chance.  \n",
    "\n",
    "However, the Tukey HSD post hoc test does not calculate the difference in the mean between any two categories to be statistically significant, and instead indicates that we should still accept the null hypothesis: that there is no association between the variables.  "
   ]
  },
  {
   "cell_type": "code",
   "execution_count": 117,
   "metadata": {
    "collapsed": false
   },
   "outputs": [
    {
     "data": {
      "text/plain": [
       "polityscore\n",
       "-10     4.458629\n",
       "-9      7.388721\n",
       "-8      2.554845\n",
       "-7      9.971015\n",
       "-6     12.543004\n",
       "-5      8.289253\n",
       "-4      6.709083\n",
       "-3      5.190980\n",
       "-2      9.022800\n",
       "-1     11.423137\n",
       " 0     11.601318\n",
       " 1     11.284163\n",
       " 2      4.904921\n",
       " 3      7.745065\n",
       " 4     14.327403\n",
       " 5      9.491012\n",
       " 6     13.292073\n",
       " 7      8.312363\n",
       " 8      9.565543\n",
       " 9     10.713958\n",
       " 10    11.282987\n",
       "Name: suicideper100th, dtype: float64"
      ]
     },
     "execution_count": 117,
     "metadata": {},
     "output_type": "execute_result"
    }
   ],
   "source": [
    "# View Mean Suicide Rate by Polity Score\n",
    "\n",
    "df2['suicideper100th'].groupby(df2['polityscore']).mean()"
   ]
  },
  {
   "cell_type": "code",
   "execution_count": 111,
   "metadata": {
    "collapsed": false
   },
   "outputs": [
    {
     "name": "stdout",
     "output_type": "stream",
     "text": [
      "                            OLS Regression Results                            \n",
      "==============================================================================\n",
      "Dep. Variable:        suicideper100th   R-squared:                       0.026\n",
      "Model:                            OLS   Adj. R-squared:                  0.020\n",
      "Method:                 Least Squares   F-statistic:                     4.060\n",
      "Date:                Sun, 08 May 2016   Prob (F-statistic):             0.0457\n",
      "Time:                        19:41:22   Log-Likelihood:                -494.55\n",
      "No. Observations:                 152   AIC:                             993.1\n",
      "Df Residuals:                     150   BIC:                             999.2\n",
      "Df Model:                           1                                         \n",
      "Covariance Type:            nonrobust                                         \n",
      "===============================================================================\n",
      "                  coef    std err          t      P>|t|      [95.0% Conf. Int.]\n",
      "-------------------------------------------------------------------------------\n",
      "Intercept       9.3356      0.590     15.813      0.000         8.169    10.502\n",
      "polityscore     0.1631      0.081      2.015      0.046         0.003     0.323\n",
      "==============================================================================\n",
      "Omnibus:                       49.216   Durbin-Watson:                   2.058\n",
      "Prob(Omnibus):                  0.000   Jarque-Bera (JB):              102.524\n",
      "Skew:                           1.443   Prob(JB):                     5.46e-23\n",
      "Kurtosis:                       5.804   Cond. No.                         8.46\n",
      "==============================================================================\n",
      "\n",
      "Warnings:\n",
      "[1] Standard Errors assume that the covariance matrix of the errors is correctly specified.\n"
     ]
    }
   ],
   "source": [
    "# ANOVA\n",
    "\n",
    "modelpolity = smf.ols(formula='suicideper100th ~ polityscore',data=df2)\n",
    "resultspolity = modelpolity.fit()\n",
    "print(resultspolity.summary())\n",
    "\n"
   ]
  },
  {
   "cell_type": "code",
   "execution_count": 119,
   "metadata": {
    "collapsed": false
   },
   "outputs": [
    {
     "name": "stdout",
     "output_type": "stream",
     "text": [
      "Multiple Comparison of Means - Tukey HSD,FWER=0.05\n",
      "==============================================\n",
      "group1 group2 meandiff  lower    upper  reject\n",
      "----------------------------------------------\n",
      "-10.0   -9.0   2.9301  -18.2937 24.1539 False \n",
      "-10.0   -8.0  -1.9038  -25.1533 21.3457 False \n",
      "-10.0   -7.0   5.5124  -12.2447 23.2695 False \n",
      "-10.0   -6.0   8.0844  -13.1394 29.3082 False \n",
      "-10.0   -5.0   3.8306  -19.4189 27.0802 False \n",
      "-10.0   -4.0   2.2505  -16.7327 21.2336 False \n",
      "-10.0   -3.0   0.7324  -18.2508 19.7155 False \n",
      "-10.0   -2.0   4.5642  -14.8878 24.0161 False \n",
      "-10.0   -1.0   6.9645  -13.1702 27.0992 False \n",
      "-10.0   0.0    7.1427  -12.3093 26.5946 False \n",
      "-10.0   1.0    6.8255  -14.3983 28.0494 False \n",
      "-10.0   2.0    0.4463  -22.8032 23.6958 False \n",
      "-10.0   3.0    3.2864  -25.1883 31.7612 False \n",
      "-10.0   4.0    9.8688  -10.2659 30.0035 False \n",
      "-10.0   5.0    5.0324  -13.6087 23.6735 False \n",
      "-10.0   6.0    8.8334  -9.1756  26.8425 False \n",
      "-10.0   7.0    3.8537  -13.8056  21.513 False \n",
      "-10.0   8.0    5.1069  -12.2732  22.487 False \n",
      "-10.0   9.0    6.2553  -11.404  23.9146 False \n",
      "-10.0   10.0   6.8244  -10.1215 23.7702 False \n",
      " -9.0   -8.0  -4.8339  -26.0577 16.3899 False \n",
      " -9.0   -7.0   2.5823  -12.4252 17.5898 False \n",
      " -9.0   -6.0   5.1543  -13.8289 24.1374 False \n",
      " -9.0   -5.0   0.9005  -20.3233 22.1244 False \n",
      " -9.0   -4.0  -0.6796  -17.1195 15.7603 False \n",
      " -9.0   -3.0  -2.1977  -18.6376 14.2422 False \n",
      " -9.0   -2.0   1.6341  -15.345  18.6131 False \n",
      " -9.0   -1.0   4.0344  -13.7227 21.7915 False \n",
      " -9.0   0.0    4.2126  -12.7665 21.1917 False \n",
      " -9.0   1.0    3.8954  -15.0877 22.8786 False \n",
      " -9.0   2.0   -2.4838  -23.7076  18.74  False \n",
      " -9.0   3.0    0.3563  -26.4899 27.2026 False \n",
      " -9.0   4.0    6.9387  -10.8184 24.6958 False \n",
      " -9.0   5.0    2.1023  -13.9414  18.146 False \n",
      " -9.0   6.0    5.9034  -9.4014  21.2081 False \n",
      " -9.0   7.0    0.9236  -13.968  15.8153 False \n",
      " -9.0   8.0    2.1768  -12.3826 16.7362 False \n",
      " -9.0   9.0    3.3252  -11.5664 18.2169 False \n",
      " -9.0   10.0   3.8943  -10.144  17.9325 False \n",
      " -8.0   -7.0   7.4162  -10.341  25.1733 False \n",
      " -8.0   -6.0   9.9882  -11.2357  31.212 False \n",
      " -8.0   -5.0   5.7344  -17.5151 28.9839 False \n",
      " -8.0   -4.0   4.1542  -14.8289 23.1374 False \n",
      " -8.0   -3.0   2.6361  -16.347  21.6193 False \n",
      " -8.0   -2.0   6.468   -12.984  25.9199 False \n",
      " -8.0   -1.0   8.8683  -11.2664  29.003 False \n",
      " -8.0   0.0    9.0465  -10.4055 28.4984 False \n",
      " -8.0   1.0    8.7293  -12.4945 29.9531 False \n",
      " -8.0   2.0    2.3501  -20.8995 25.5996 False \n",
      " -8.0   3.0    5.1902  -23.2845  33.665 False \n",
      " -8.0   4.0   11.7726  -8.3621  31.9072 False \n",
      " -8.0   5.0    6.9362  -11.7049 25.5773 False \n",
      " -8.0   6.0   10.7372  -7.2718  28.7462 False \n",
      " -8.0   7.0    5.7575  -11.9018 23.4168 False \n",
      " -8.0   8.0    7.0107  -10.3694 24.3908 False \n",
      " -8.0   9.0    8.1591  -9.5002  25.8184 False \n",
      " -8.0   10.0   8.7281  -8.2177   25.674 False \n",
      " -7.0   -6.0   2.572   -12.4355 17.5795 False \n",
      " -7.0   -5.0  -1.6818  -19.4389 16.0754 False \n",
      " -7.0   -4.0  -3.2619  -14.8867  8.3628 False \n",
      " -7.0   -3.0   -4.78   -16.4048  6.8447 False \n",
      " -7.0   -2.0  -0.9482  -13.3237 11.4273 False \n",
      " -7.0   -1.0   1.4521  -11.971  14.8752 False \n",
      " -7.0   0.0    1.6303  -10.7452 14.0058 False \n",
      " -7.0   1.0    1.3131  -13.6944 16.3207 False \n",
      " -7.0   2.0   -5.0661  -22.8232  12.691 False \n",
      " -7.0   3.0    -2.226  -26.4248 21.9729 False \n",
      " -7.0   4.0    4.3564  -9.0667  17.7795 False \n",
      " -7.0   5.0    -0.48   -11.5374 10.5774 False \n",
      " -7.0   6.0    3.3211  -6.6338  13.2759 False \n",
      " -7.0   7.0   -1.6587  -10.9659  7.6486 False \n",
      " -7.0   8.0   -0.4055  -9.1714   8.3605 False \n",
      " -7.0   9.0    0.7429  -8.5643  10.0502 False \n",
      " -7.0   10.0   1.312    -6.558   9.182  False \n",
      " -6.0   -5.0  -4.2538  -25.4776 16.9701 False \n",
      " -6.0   -4.0  -5.8339  -22.2738  10.606 False \n",
      " -6.0   -3.0   -7.352  -23.7919  9.0879 False \n",
      " -6.0   -2.0  -3.5202  -20.4993 13.4589 False \n",
      " -6.0   -1.0  -1.1199  -18.877  16.6373 False \n",
      " -6.0   0.0   -0.9417  -17.9207 16.0374 False \n",
      " -6.0   1.0   -1.2588  -20.242  17.7243 False \n",
      " -6.0   2.0   -7.6381  -28.8619 13.5857 False \n",
      " -6.0   3.0   -4.7979  -31.6442 22.0483 False \n",
      " -6.0   4.0    1.7844  -15.9727 19.5415 False \n",
      " -6.0   5.0    -3.052  -19.0957 12.9917 False \n",
      " -6.0   6.0    0.7491  -14.5556 16.0538 False \n",
      " -6.0   7.0   -4.2306  -19.1223  10.661 False \n",
      " -6.0   8.0   -2.9775  -17.5369  11.582 False \n",
      " -6.0   9.0    -1.829  -16.7207 13.0626 False \n",
      " -6.0   10.0   -1.26   -15.2983 12.7782 False \n",
      " -5.0   -4.0  -1.5802  -20.5633  17.403 False \n",
      " -5.0   -3.0  -3.0983  -22.0814 15.8849 False \n",
      " -5.0   -2.0   0.7335  -18.7184 20.1855 False \n",
      " -5.0   -1.0   3.1339  -17.0008 23.2686 False \n",
      " -5.0   0.0    3.3121  -16.1399  22.764 False \n",
      " -5.0   1.0    2.9949  -18.2289 24.2187 False \n",
      " -5.0   2.0   -3.3843  -26.6339 19.8652 False \n",
      " -5.0   3.0   -0.5442  -29.0189 27.9306 False \n",
      " -5.0   4.0    6.0381  -14.0965 26.1728 False \n",
      " -5.0   5.0    1.2018  -17.4393 19.8429 False \n",
      " -5.0   6.0    5.0028  -13.0062 23.0118 False \n",
      " -5.0   7.0    0.0231  -17.6362 17.6824 False \n",
      " -5.0   8.0    1.2763  -16.1038 18.6564 False \n",
      " -5.0   9.0    2.4247  -15.2346  20.084 False \n",
      " -5.0   10.0   2.9937  -13.9521 19.9396 False \n",
      " -4.0   -3.0  -1.5181  -14.9412  11.905 False \n",
      " -4.0   -2.0   2.3137  -11.7646  16.392 False \n",
      " -4.0   -1.0   4.7141  -10.2935 19.7216 False \n",
      " -4.0   0.0    4.8922  -9.1861  18.9705 False \n",
      " -4.0   1.0    4.5751  -11.8648  21.015 False \n",
      " -4.0   2.0   -1.8042  -20.7873  17.179 False \n",
      " -4.0   3.0    1.036   -24.0764 26.1483 False \n",
      " -4.0   4.0    7.6183  -7.3892  22.6258 False \n",
      " -4.0   5.0    2.7819  -10.1529 15.7168 False \n",
      " -4.0   6.0    6.583    -5.423   18.589 False \n",
      " -4.0   7.0    1.6033  -9.8715   13.078 False \n",
      " -4.0   8.0    2.8565  -8.1838  13.8967 False \n",
      " -4.0   9.0    4.0049  -7.4699  15.4796 False \n",
      " -4.0   10.0   4.5739  -5.7693  14.9171 False \n",
      " -3.0   -2.0   3.8318  -10.2465 17.9101 False \n",
      " -3.0   -1.0   6.2322  -8.7754  21.2397 False \n",
      " -3.0   0.0    6.4103   -7.668  20.4886 False \n",
      " -3.0   1.0    6.0932  -10.3467 22.5331 False \n",
      " -3.0   2.0   -0.2861  -19.2692 18.6971 False \n",
      " -3.0   3.0    2.5541  -22.5583 27.6665 False \n",
      " -3.0   4.0    9.1364  -5.8711  24.1439 False \n",
      " -3.0   5.0     4.3    -8.6348  17.2349 False \n",
      " -3.0   6.0    8.1011  -3.9049  20.1071 False \n",
      " -3.0   7.0    3.1214  -8.3534  14.5961 False \n",
      " -3.0   8.0    4.3746  -6.6657  15.4148 False \n",
      " -3.0   9.0    5.523   -5.9518  16.9977 False \n",
      " -3.0   10.0   6.092   -4.2512  16.4352 False \n",
      " -2.0   -1.0   2.4003  -13.1959 17.9966 False \n",
      " -2.0   0.0    2.5785  -12.1258 17.2828 False \n",
      " -2.0   1.0    2.2614  -14.7177 19.2404 False \n",
      " -2.0   2.0   -4.1179  -23.5698 15.3341 False \n",
      " -2.0   3.0   -1.2777  -26.7463 24.1909 False \n",
      " -2.0   4.0    5.3046  -10.2917 20.9009 False \n",
      " -2.0   5.0    0.4682  -13.1453 14.0817 False \n",
      " -2.0   6.0    4.2693   -8.465  17.0036 False \n",
      " -2.0   7.0   -0.7104  -12.9452 11.5243 False \n",
      " -2.0   8.0    0.5427  -11.2854 12.3709 False \n",
      " -2.0   9.0    1.6912  -10.5436 13.9259 False \n",
      " -2.0   10.0   2.2602  -8.9202  13.4405 False \n",
      " -1.0   0.0    0.1782  -15.4181 15.7744 False \n",
      " -1.0   1.0    -0.139  -17.8961 17.6181 False \n",
      " -1.0   2.0   -6.5182  -26.6529 13.6165 False \n",
      " -1.0   3.0   -3.6781  -29.6718 22.3157 False \n",
      " -1.0   4.0    2.9043  -13.5356 19.3442 False \n",
      " -1.0   5.0   -1.9321  -16.5045 12.6403 False \n",
      " -1.0   6.0    1.8689  -11.8857 15.6235 False \n",
      " -1.0   7.0   -3.1108  -16.4042 10.1827 False \n",
      " -1.0   8.0   -1.8576  -14.7778 11.0626 False \n",
      " -1.0   9.0   -0.7092  -14.0026 12.5842 False \n",
      " -1.0   10.0  -0.1402  -12.4701 12.1898 False \n",
      " 0.0    1.0   -0.3172  -17.2962 16.6619 False \n",
      " 0.0    2.0   -6.6964  -26.1484 12.7556 False \n",
      " 0.0    3.0   -3.8563  -29.3248 21.6123 False \n",
      " 0.0    4.0    2.7261  -12.8702 18.3223 False \n",
      " 0.0    5.0   -2.1103  -15.7238 11.5032 False \n",
      " 0.0    6.0    1.6908  -11.0435  14.425 False \n",
      " 0.0    7.0    -3.289  -15.5237  8.9458 False \n",
      " 0.0    8.0   -2.0358  -13.8639  9.7924 False \n",
      " 0.0    9.0   -0.8874  -13.1221 11.3474 False \n",
      " 0.0    10.0  -0.3183  -11.4987  10.862 False \n",
      " 1.0    2.0   -6.3792  -27.6031 14.8446 False \n",
      " 1.0    3.0   -3.5391  -30.3853 23.3071 False \n",
      " 1.0    4.0    3.0432  -14.7139 20.8004 False \n",
      " 1.0    5.0   -1.7932  -17.8369 14.2506 False \n",
      " 1.0    6.0    2.0079  -13.2968 17.3126 False \n",
      " 1.0    7.0   -2.9718  -17.8634 11.9198 False \n",
      " 1.0    8.0   -1.7186  -16.278  12.8408 False \n",
      " 1.0    9.0   -0.5702  -15.4618 14.3214 False \n",
      " 1.0    10.0  -0.0012  -14.0394 14.0371 False \n",
      " 2.0    3.0    2.8401  -25.6346 31.3149 False \n",
      " 2.0    4.0    9.4225  -10.7122 29.5572 False \n",
      " 2.0    5.0    4.5861  -14.055  23.2272 False \n",
      " 2.0    6.0    8.3872  -9.6219  26.3962 False \n",
      " 2.0    7.0    3.4074  -14.2518 21.0667 False \n",
      " 2.0    8.0    4.6606  -12.7194 22.0407 False \n",
      " 2.0    9.0    5.809   -11.8503 23.4683 False \n",
      " 2.0    10.0   6.3781  -10.5678 23.3239 False \n",
      " 3.0    4.0    6.5823  -19.4114 32.5761 False \n",
      " 3.0    5.0    1.7459  -23.1088 26.6007 False \n",
      " 3.0    6.0    5.547   -18.8373 29.9313 False \n",
      " 3.0    7.0    0.5673  -23.5599 24.6945 False \n",
      " 3.0    8.0    1.8205  -22.1031  25.744 False \n",
      " 3.0    9.0    2.9689  -21.1583 27.0961 False \n",
      " 3.0    10.0   3.5379  -20.0721 27.1479 False \n",
      " 4.0    5.0   -4.8364  -19.4088  9.736  False \n",
      " 4.0    6.0   -1.0353  -14.7899 12.7193 False \n",
      " 4.0    7.0    -6.015  -19.3085  7.2784 False \n",
      " 4.0    8.0   -4.7619  -17.6821  8.1583 False \n",
      " 4.0    9.0   -3.6134  -16.9069   9.68  False \n",
      " 4.0    10.0  -3.0444  -15.3743  9.2855 False \n",
      " 5.0    6.0    3.8011  -7.6564  15.2586 False \n",
      " 5.0    7.0   -1.1786  -12.0782  9.7209 False \n",
      " 5.0    8.0    0.0745  -10.3666 10.5156 False \n",
      " 5.0    9.0    1.2229  -9.6766  12.1225 False \n",
      " 5.0    10.0   1.792   -7.9092  11.4931 False \n",
      " 6.0    7.0   -4.9797  -14.759   4.7996 False \n",
      " 6.0    8.0   -3.7265  -12.9921  5.539  False \n",
      " 6.0    9.0   -2.5781  -12.3574  7.2012 False \n",
      " 6.0    10.0  -2.0091  -10.432   6.4139 False \n",
      " 7.0    8.0    1.2532  -7.3128   9.8192 False \n",
      " 7.0    9.0    2.4016  -6.7176  11.5208 False \n",
      " 7.0    10.0   2.9706  -4.6761  10.6173 False \n",
      " 8.0    9.0    1.1484  -7.4176   9.7144 False \n",
      " 8.0    10.0   1.7174  -5.2603   8.6952 False \n",
      " 9.0    10.0   0.569   -7.0777   8.2157 False \n",
      "----------------------------------------------\n"
     ]
    }
   ],
   "source": [
    "# Post Hoc Test\n",
    "\n",
    "mcPolity = multi.MultiComparison(df2['suicideper100th'],df2['polityscore'])\n",
    "resultPolityTukey = mcPolity.tukeyhsd()\n",
    "print(resultPolityTukey.summary())"
   ]
  },
  {
   "cell_type": "markdown",
   "metadata": {},
   "source": [
    "### Multivariate Analysis ###"
   ]
  },
  {
   "cell_type": "markdown",
   "metadata": {},
   "source": [
    "#### Suicide Rate vs. Employment Rate ####\n",
    "\n",
    "The data does not show a significant relationship between suicide rate and employment rate, which contradicts my hypothesis.  As mentioned earlier, the use of 15 as the age cutoff for the employment rate may be a factor.\n"
   ]
  },
  {
   "cell_type": "code",
   "execution_count": 112,
   "metadata": {
    "collapsed": false
   },
   "outputs": [
    {
     "data": {
      "text/plain": [
       "<matplotlib.text.Text at 0xd5e7a20>"
      ]
     },
     "execution_count": 112,
     "metadata": {},
     "output_type": "execute_result"
    },
    {
     "data": {
      "image/png": "[encoded data removed]",
      "text/plain": [
       "<matplotlib.figure.Figure at 0xd5d47b8>"
      ]
     },
     "metadata": {},
     "output_type": "display_data"
    }
   ],
   "source": [
    "plt.figure(figsize=(15,6))\n",
    "ax = sns.regplot(x='employrate',y='suicideper100th',data=df2)\n",
    "plt.title('Suicide Rate vs. Employment Rate',fontsize=20)\n",
    "plt.xlabel('Employment Rate',fontsize=16)\n",
    "plt.ylabel('Suicides Per 100,000 Population',fontsize=16)"
   ]
  },
  {
   "cell_type": "markdown",
   "metadata": {},
   "source": [
    "###  Suicide Rate vs. Armed Forces Rate ###\n",
    "\n",
    "The data shows a slightly negative correlation; the relatively few countries with disproportionately high armed forces rates have somewhat lower suicide rates.  This is not a very robust prediction; the slope of the regression line is heavily influenced by a small number of outliers.  The wide confidence interval illustrates this considerable uncertainty.\n",
    "\n",
    "My hypothesis was that we would see no correlation.  Yet of the three variables I looked at, this appears to be the strongest."
   ]
  },
  {
   "cell_type": "code",
   "execution_count": 113,
   "metadata": {
    "collapsed": false
   },
   "outputs": [
    {
     "data": {
      "text/plain": [
       "<matplotlib.text.Text at 0xd9f9ac8>"
      ]
     },
     "execution_count": 113,
     "metadata": {},
     "output_type": "execute_result"
    },
    {
     "data": {
      "image/png": "[encoded data removed]",
      "text/plain": [
       "<matplotlib.figure.Figure at 0xd795b00>"
      ]
     },
     "metadata": {},
     "output_type": "display_data"
    }
   ],
   "source": [
    "plt.figure(figsize=(12,6))\n",
    "ax = sns.regplot(x='armedforcesrate',y='suicideper100th',data=df2)\n",
    "plt.title('Suicide Rate vs. Armed Forces Rate',fontsize=20)\n",
    "plt.xlabel('Armed Forces Rate',fontsize=16)\n",
    "plt.ylabel('Suicides Per 100,000 Population',fontsize=16)"
   ]
  },
  {
   "cell_type": "markdown",
   "metadata": {},
   "source": [
    "### Suicide Rate vs. Polity Score ###\n",
    "\n",
    "My hypothesis was that as political freedom increased, suicide rate would decrease.  This plot does not appear to show a significant correlation between these two variables.\n",
    "\n",
    "The univariate analysis showed that there were relatively few countries granted scores that were not 9 or 10.  So other individual attributes of each of these countries may play a more important role.\n"
   ]
  },
  {
   "cell_type": "code",
   "execution_count": 114,
   "metadata": {
    "collapsed": false
   },
   "outputs": [
    {
     "data": {
      "text/html": [
       "<div>\n",
       "<table border=\"1\" class=\"dataframe\">\n",
       "  <thead>\n",
       "    <tr style=\"text-align: right;\">\n",
       "      <th></th>\n",
       "      <th>country</th>\n",
       "      <th>suicideper100th</th>\n",
       "      <th>employrate</th>\n",
       "      <th>armedforcesrate</th>\n",
       "      <th>polityscore</th>\n",
       "      <th>employratequantiles</th>\n",
       "      <th>armedforcesratebins</th>\n",
       "    </tr>\n",
       "  </thead>\n",
       "  <tbody>\n",
       "    <tr>\n",
       "      <th>156</th>\n",
       "      <td>Qatar</td>\n",
       "      <td>2.515721</td>\n",
       "      <td>76.000000</td>\n",
       "      <td>1.334236</td>\n",
       "      <td>-10</td>\n",
       "      <td>Q5</td>\n",
       "      <td>(1, 10.639]</td>\n",
       "    </tr>\n",
       "    <tr>\n",
       "      <th>167</th>\n",
       "      <td>Saudi Arabia</td>\n",
       "      <td>6.401538</td>\n",
       "      <td>51.200001</td>\n",
       "      <td>2.618296</td>\n",
       "      <td>-10</td>\n",
       "      <td>Q2</td>\n",
       "      <td>(1, 10.639]</td>\n",
       "    </tr>\n",
       "    <tr>\n",
       "      <th>205</th>\n",
       "      <td>Uzbekistan</td>\n",
       "      <td>5.213720</td>\n",
       "      <td>57.500000</td>\n",
       "      <td>0.709630</td>\n",
       "      <td>-9</td>\n",
       "      <td>Q3</td>\n",
       "      <td>(0.6, 0.8]</td>\n",
       "    </tr>\n",
       "    <tr>\n",
       "      <th>99</th>\n",
       "      <td>Korea, Dem. Rep.</td>\n",
       "      <td>4.735673</td>\n",
       "      <td>64.599998</td>\n",
       "      <td>10.638521</td>\n",
       "      <td>-9</td>\n",
       "      <td>Q4</td>\n",
       "      <td>NaN</td>\n",
       "    </tr>\n",
       "    <tr>\n",
       "      <th>197</th>\n",
       "      <td>Turkmenistan</td>\n",
       "      <td>12.216769</td>\n",
       "      <td>58.500000</td>\n",
       "      <td>0.931417</td>\n",
       "      <td>-9</td>\n",
       "      <td>Q3</td>\n",
       "      <td>(0.8, 1]</td>\n",
       "    </tr>\n",
       "  </tbody>\n",
       "</table>\n",
       "</div>"
      ],
      "text/plain": [
       "              country  suicideper100th  employrate  armedforcesrate  \\\n",
       "156             Qatar         2.515721   76.000000         1.334236   \n",
       "167      Saudi Arabia         6.401538   51.200001         2.618296   \n",
       "205        Uzbekistan         5.213720   57.500000         0.709630   \n",
       "99   Korea, Dem. Rep.         4.735673   64.599998        10.638521   \n",
       "197      Turkmenistan        12.216769   58.500000         0.931417   \n",
       "\n",
       "     polityscore employratequantiles armedforcesratebins  \n",
       "156          -10                  Q5         (1, 10.639]  \n",
       "167          -10                  Q2         (1, 10.639]  \n",
       "205           -9                  Q3          (0.6, 0.8]  \n",
       "99            -9                  Q4                 NaN  \n",
       "197           -9                  Q3            (0.8, 1]  "
      ]
     },
     "execution_count": 114,
     "metadata": {},
     "output_type": "execute_result"
    }
   ],
   "source": [
    "# Sort df by Polity Rate\n",
    "\n",
    "df2 = df2.sort_values(by='polityscore',ascending=True)\n",
    "\n",
    "df2.head()"
   ]
  },
  {
   "cell_type": "code",
   "execution_count": 115,
   "metadata": {
    "collapsed": false
   },
   "outputs": [
    {
     "name": "stderr",
     "output_type": "stream",
     "text": [
      "C:\\Users\\garymiller01\\Anaconda3\\lib\\site-packages\\matplotlib\\__init__.py:892: UserWarning: axes.color_cycle is deprecated and replaced with axes.prop_cycle; please use the latter.\n",
      "  warnings.warn(self.msg_depr % (key, alt_key))\n"
     ]
    },
    {
     "data": {
      "text/plain": [
       "<matplotlib.figure.Figure at 0xd79bac8>"
      ]
     },
     "metadata": {},
     "output_type": "display_data"
    },
    {
     "data": {
      "image/png": "[encoded data removed]",
      "text/plain": [
       "<matplotlib.figure.Figure at 0xd795be0>"
      ]
     },
     "metadata": {},
     "output_type": "display_data"
    }
   ],
   "source": [
    "# Plot Suicide Rate vs Polity Score\n",
    "\n",
    "plt.figure(figsize=(20,10))\n",
    "ax = sns.factorplot(x='polityscore',y='suicideper100th',kind='bar',ci=None,data=df2,palette='Blues',\n",
    "                   size=8,aspect=1)\n",
    "plt.title('Suicide Rate vs. Polity Score',fontsize=20)\n",
    "plt.xlabel('Polity Score',fontsize=16)\n",
    "plt.ylabel('Suicides Per 100,000 Population',fontsize=16)\n",
    "plt.show()"
   ]
  },
  {
   "cell_type": "code",
   "execution_count": null,
   "metadata": {
    "collapsed": true
   },
   "outputs": [],
   "source": []
  }
 ],
 "metadata": {
  "kernelspec": {
   "display_name": "Python 3",
   "language": "python",
   "name": "python3"
  },
  "language_info": {
   "codemirror_mode": {
    "name": "ipython",
    "version": 3
   },
   "file_extension": ".py",
   "mimetype": "text/x-python",
   "name": "python",
   "nbconvert_exporter": "python",
   "pygments_lexer": "ipython3",
   "version": "3.5.1"
  }
 },
 "nbformat": 4,
 "nbformat_minor": 0
}
